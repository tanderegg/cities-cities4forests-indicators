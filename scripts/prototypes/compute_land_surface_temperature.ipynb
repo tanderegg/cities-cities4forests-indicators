{
 "cells": [
  {
   "cell_type": "code",
   "execution_count": 43,
   "id": "05d9847d",
   "metadata": {},
   "outputs": [],
   "source": [
    "import ee"
   ]
  },
  {
   "cell_type": "code",
   "execution_count": 44,
   "id": "df4f5256",
   "metadata": {},
   "outputs": [
    {
     "data": {
      "text/html": [
       "<p>To authorize access needed by Earth Engine, open the following\n",
       "        URL in a web browser and follow the instructions:</p>\n",
       "        <p><a href=https://code.earthengine.google.com/client-auth?scopes=https%3A//www.googleapis.com/auth/earthengine%20https%3A//www.googleapis.com/auth/devstorage.full_control&request_id=nCUDRALVIrU9IeVuqjs3_419WiPftgHW7PBtkjCEEdw&tc=3Uj7NREqmbWwoVP-MmrO61QVGYc8b5M8U4DQs4Us7wY&cc=GCeI9EOClY_8pMYs5zbJ-7gzwnnNviWnuze2b8r0Tks>https://code.earthengine.google.com/client-auth?scopes=https%3A//www.googleapis.com/auth/earthengine%20https%3A//www.googleapis.com/auth/devstorage.full_control&request_id=nCUDRALVIrU9IeVuqjs3_419WiPftgHW7PBtkjCEEdw&tc=3Uj7NREqmbWwoVP-MmrO61QVGYc8b5M8U4DQs4Us7wY&cc=GCeI9EOClY_8pMYs5zbJ-7gzwnnNviWnuze2b8r0Tks</a></p>\n",
       "        <p>The authorization workflow will generate a code, which you should paste in the box below.</p>\n",
       "        "
      ],
      "text/plain": [
       "<IPython.core.display.HTML object>"
      ]
     },
     "metadata": {},
     "output_type": "display_data"
    },
    {
     "name": "stdout",
     "output_type": "stream",
     "text": [
      "Enter verification code: 4/1AdQt8qgZhyHAYkRBkRUGDte3VPtw4U_sTIR5LhBdmZMs8SIIXnYRsEzARQ0\n",
      "\n",
      "Successfully saved authorization token.\n"
     ]
    }
   ],
   "source": [
    "ee.Authenticate()"
   ]
  },
  {
   "cell_type": "code",
   "execution_count": 45,
   "id": "46432a3d",
   "metadata": {},
   "outputs": [],
   "source": [
    "ee.Initialize()"
   ]
  },
  {
   "cell_type": "code",
   "execution_count": 46,
   "id": "5764c6ab",
   "metadata": {},
   "outputs": [],
   "source": [
    "import geemap\n",
    "import ipyleaflet\n",
    "import numpy as np\n",
    "import requests\n",
    "import os\n",
    "import boto3\n",
    "import pandas as pd"
   ]
  },
  {
   "cell_type": "markdown",
   "id": "d2630751",
   "metadata": {},
   "source": [
    "# Load data"
   ]
  },
  {
   "cell_type": "code",
   "execution_count": 47,
   "id": "f2218380",
   "metadata": {},
   "outputs": [],
   "source": [
    "######### World cover\n",
    "\n",
    "##Add Land use land cover dataset\n",
    "WC = ee.ImageCollection(\"ESA/WorldCover/v100\")\n",
    "WorldCover = WC.first();\n",
    "\n",
    "## define projection for use later\n",
    "WCprojection = WC.first().projection()"
   ]
  },
  {
   "cell_type": "code",
   "execution_count": 48,
   "id": "8c2f612b",
   "metadata": {},
   "outputs": [],
   "source": [
    "######## LANDSAT\n",
    "\n",
    "COLLECTION = ee.Dictionary({\n",
    "  'L4': {\n",
    "    'TOA': ee.ImageCollection('LANDSAT/LT04/C01/T1_TOA'),\n",
    "    'SR': ee.ImageCollection('LANDSAT/LT04/C01/T1_SR'),\n",
    "    'TIR': ['B6',]\n",
    "  },\n",
    "  'L5': {\n",
    "    'TOA': ee.ImageCollection('LANDSAT/LT05/C01/T1_TOA'),\n",
    "    'SR': ee.ImageCollection('LANDSAT/LT05/C01/T1_SR'),\n",
    "    'TIR': ['B6',]\n",
    "  },\n",
    "  'L7': {\n",
    "    'TOA': ee.ImageCollection('LANDSAT/LE07/C01/T1_TOA'),\n",
    "    'SR': ee.ImageCollection('LANDSAT/LE07/C01/T1_SR'),\n",
    "    'TIR': ['B6_VCID_1','B6_VCID_2'],\n",
    "  },\n",
    "  'L8': {\n",
    "    'TOA': ee.ImageCollection('LANDSAT/LC08/C01/T1_TOA'),\n",
    "    'SR': ee.ImageCollection('LANDSAT/LC08/C01/T1_SR'),\n",
    "    'TIR': ['B10','B11']\n",
    "  }\n",
    "})"
   ]
  },
  {
   "cell_type": "code",
   "execution_count": 49,
   "id": "1d6eeda4",
   "metadata": {},
   "outputs": [],
   "source": [
    "########### Aester emissivity\n",
    "\n",
    "# get ASTER emissivity\n",
    "aster = ee.Image(\"NASA/ASTER_GED/AG100_003\")\n",
    "\n",
    "#get ASTER FVC from NDVI\n",
    "aster_ndvi = aster.select('ndvi').multiply(0.01)\n",
    "\n",
    "aster_fvc = aster_ndvi.expression('((ndvi-ndvi_bg)/(ndvi_vg - ndvi_bg))**2',\n",
    "  {'ndvi':aster_ndvi,'ndvi_bg':0.2,'ndvi_vg':0.86})\n",
    "aster_fvc = aster_fvc.where(aster_fvc.lt(0.0),0.0)\n",
    "aster_fvc = aster_fvc.where(aster_fvc.gt(1.0),1.0)"
   ]
  },
  {
   "cell_type": "markdown",
   "id": "2f53e5fb",
   "metadata": {},
   "source": [
    "# Define functions"
   ]
  },
  {
   "cell_type": "code",
   "execution_count": 51,
   "id": "6fb05082",
   "metadata": {},
   "outputs": [],
   "source": [
    "# add date as a band to image collection\n",
    "def addDate(image):\n",
    "    img_date = ee.Date(image.date())\n",
    "    img_date = ee.Number.parse(img_date.format('YYYYMMdd'))\n",
    "    return image.addBands(ee.Image(img_date).rename('date').toInt())"
   ]
  },
  {
   "cell_type": "code",
   "execution_count": 52,
   "id": "6b1625d4",
   "metadata": {},
   "outputs": [],
   "source": [
    "def get_hottest_period(Districts,start_date,end_date,ROIcenter):\n",
    "    # select dataset, filter by dates and visualize\n",
    "    dataset = (ee.ImageCollection('NASA/NEX-GDDP')\n",
    "               .filter(ee.Filter.And(\n",
    "                   ee.Filter.date(start_date, end_date),\n",
    "                   ee.Filter.eq('scenario','rcp85'),\n",
    "                    ee.Filter.eq('model','BNU-ESM'),\n",
    "                   ee.Filter.bounds(Districts)\n",
    "               )\n",
    "                      )\n",
    "              )\n",
    "    AirTemperature = dataset.select(['tasmax'])\n",
    "    \n",
    "    withdates = AirTemperature.map(addDate)\n",
    "    \n",
    "    # create a composite with the hottest day value and dates for every location and add to map\n",
    "    hottest = withdates.qualityMosaic('tasmax')\n",
    "    \n",
    "    # reduce composite to get the hottest date for centroid of ROI\n",
    "    resolution = dataset.first().projection().nominalScale()\n",
    "    NEXtempMax = ee.Number(hottest.reduceRegion(ee.Reducer.firstNonNull(), ROIcenter, resolution).get('date'))\n",
    "    \n",
    "    # convert date number to date type\n",
    "    date = ee.Date.parse('YYYYMMdd',str(NEXtempMax.getInfo()))\n",
    "    \n",
    "    # calculate 45 days before and after hottest date.  Format as short date.\n",
    "    start90days = date.advance(-44, 'day').format('YYYY-MM-dd')\n",
    "    end90days = date.advance(45, 'day').format('YYYY-MM-dd')\n",
    "    print(start90days.getInfo())\n",
    "    print(end90days.getInfo())\n",
    "    start90days_info = start90days.getInfo()\n",
    "    end90days_info = end90days.getInfo()\n",
    "    \n",
    "    return(start90days_info,end90days_info)"
   ]
  },
  {
   "cell_type": "code",
   "execution_count": 53,
   "id": "45de2da2",
   "metadata": {},
   "outputs": [],
   "source": [
    "def NDVIaddBand(landsat):\n",
    "  def wrap(image):\n",
    "\n",
    "    # choose bands\n",
    "    nir = ee.String(ee.Algorithms.If(landsat == 'L8','B5','B4'))\n",
    "    red = ee.String(ee.Algorithms.If(landsat == 'L8','B4','B3'))\n",
    "\n",
    "    # compute NDVI\n",
    "    return image.addBands(image.expression('(nir-red)/(nir+red)',{\n",
    "      'nir':image.select(nir).multiply(0.0001),\n",
    "      'red':image.select(red).multiply(0.0001)\n",
    "    }).rename('NDVI'))\n",
    "\n",
    "  return wrap"
   ]
  },
  {
   "cell_type": "code",
   "execution_count": 54,
   "id": "0eea7b99",
   "metadata": {},
   "outputs": [],
   "source": [
    "def FVCaddBand(landsat):\n",
    "  def wrap(image):\n",
    "\n",
    "    ndvi = image.select('NDVI')\n",
    "\n",
    "    # Compute FVC\n",
    "    fvc = image.expression('((ndvi-ndvi_bg)/(ndvi_vg - ndvi_bg))**2',\n",
    "      {'ndvi':ndvi,'ndvi_bg':0.2,'ndvi_vg':0.86})\n",
    "    fvc = fvc.where(fvc.lt(0.0),0.0)\n",
    "    fvc = fvc.where(fvc.gt(1.0),1.0)\n",
    "\n",
    "    return image.addBands(fvc.rename('FVC'))\n",
    "\n",
    "  return wrap"
   ]
  },
  {
   "cell_type": "code",
   "execution_count": 55,
   "id": "efa13f8d",
   "metadata": {},
   "outputs": [],
   "source": [
    "def NCEP_TPWaddBand(image):\n",
    "\n",
    "  # first select the day of interest\n",
    "  date = ee.Date(image.get('system:time_start'))\n",
    "  year = ee.Number.parse(date.format('yyyy'))\n",
    "  month = ee.Number.parse(date.format('MM'))\n",
    "  day = ee.Number.parse(date.format('dd'))\n",
    "  date1 = ee.Date.fromYMD(year,month,day)\n",
    "  date2 = date1.advance(1,'days')\n",
    "\n",
    "  # function compute the time difference from landsat image\n",
    "  def datedist(image):\n",
    "    return image.set('DateDist',\n",
    "      ee.Number(image.get('system:time_start')) \\\n",
    "      .subtract(date.millis()).abs())\n",
    "  \n",
    "\n",
    "  # load atmospheric data collection\n",
    "  TPWcollection = ee.ImageCollection('NCEP_RE/surface_wv') \\\n",
    "                  .filter(ee.Filter.date(date1.format('yyyy-MM-dd'), date2.format('yyyy-MM-dd'))) \\\n",
    "                  .map(datedist)\n",
    "\n",
    "  # select the two closest model times\n",
    "  closest = (TPWcollection.sort('DateDist')).toList(2)\n",
    "\n",
    "  # check if there is atmospheric data in the wanted day\n",
    "  # if not creates a TPW image with non-realistic values\n",
    "  # these are then masked in the SMWalgorithm function (prevents errors)\n",
    "  tpw1 = ee.Image(ee.Algorithms.If(closest.size().eq(0), ee.Image.constant(-999.0),\n",
    "                      ee.Image(closest.get(0)).select('pr_wtr') ))\n",
    "  tpw2 = ee.Image(ee.Algorithms.If(closest.size().eq(0), ee.Image.constant(-999.0),\n",
    "                        ee.Algorithms.If(closest.size().eq(1), tpw1,\n",
    "                        ee.Image(closest.get(1)).select('pr_wtr') )))\n",
    "\n",
    "  time1 = ee.Number(ee.Algorithms.If(closest.size().eq(0), 1.0,\n",
    "                        ee.Number(tpw1.get('DateDist')).divide(ee.Number(21600000)) ))\n",
    "  time2 = ee.Number(ee.Algorithms.If(closest.size().lt(2), 0.0,\n",
    "                        ee.Number(tpw2.get('DateDist')).divide(ee.Number(21600000)) ))\n",
    "\n",
    "  tpw = tpw1.expression('tpw1*time2+tpw2*time1',\n",
    "                            {'tpw1':tpw1,\n",
    "                            'time1':time1,\n",
    "                            'tpw2':tpw2,\n",
    "                            'time2':time2\n",
    "                            }).clip(image.geometry())\n",
    "\n",
    "  # SMW coefficients are binned by TPW values\n",
    "  # find the bin of each TPW value\n",
    "  pos = tpw.expression(\n",
    "    \"value = (TPW>0 && TPW<=6) ? 0\" + \\\n",
    "    \": (TPW>6 && TPW<=12) ? 1\" + \\\n",
    "    \": (TPW>12 && TPW<=18) ? 2\" + \\\n",
    "    \": (TPW>18 && TPW<=24) ? 3\" + \\\n",
    "    \": (TPW>24 && TPW<=30) ? 4\" + \\\n",
    "    \": (TPW>30 && TPW<=36) ? 5\" + \\\n",
    "    \": (TPW>36 && TPW<=42) ? 6\" + \\\n",
    "    \": (TPW>42 && TPW<=48) ? 7\" + \\\n",
    "    \": (TPW>48 && TPW<=54) ? 8\" + \\\n",
    "    \": (TPW>54) ? 9\" + \\\n",
    "    \": 0\",{'TPW': tpw}) \\\n",
    "    .clip(image.geometry())\n",
    "\n",
    "  # add tpw to image as a band\n",
    "  withTPW = (image.addBands(tpw.rename('TPW'),['TPW'])).addBands(pos.rename('TPWpos'),['TPWpos'])\n",
    "\n",
    "  return withTPW"
   ]
  },
  {
   "cell_type": "code",
   "execution_count": 56,
   "id": "7d393014",
   "metadata": {},
   "outputs": [],
   "source": [
    "# bare ground emissivity functions for each band\n",
    "def ASTERGEDemiss_bare_band10(image):\n",
    "  return image.expression('(EM - 0.99*fvc)/(1.0-fvc)',{\n",
    "    'EM':aster.select('emissivity_band10').multiply(0.001),\n",
    "    'fvc':aster_fvc}) \\\n",
    "    .clip(image.geometry())\n",
    "\n",
    "def ASTERGEDemiss_bare_band11(image):\n",
    "  return image.expression('(EM - 0.99*fvc)/(1.0-fvc)',{\n",
    "    'EM':aster.select('emissivity_band11').multiply(0.001),\n",
    "    'fvc':aster_fvc}) \\\n",
    "    .clip(image.geometry())\n",
    "\n",
    "def ASTERGEDemiss_bare_band12(image):\n",
    "  return image.expression('(EM - 0.99*fvc)/(1.0-fvc)',{\n",
    "    'EM':aster.select('emissivity_band12').multiply(0.001),\n",
    "    'fvc':aster_fvc}) \\\n",
    "    .clip(image.geometry())\n",
    "\n",
    "def ASTERGEDemiss_bare_band13(image):\n",
    "  return image.expression('(EM - 0.99*fvc)/(1.0-fvc)',{\n",
    "    'EM':aster.select('emissivity_band13').multiply(0.001),\n",
    "    'fvc':aster_fvc}) \\\n",
    "    .clip(image.geometry())\n",
    "\n",
    "def ASTERGEDemiss_bare_band14(image):\n",
    "  return image.expression('(EM - 0.99*fvc)/(1.0-fvc)',{\n",
    "    'EM':aster.select('emissivity_band14').multiply(0.001),\n",
    "    'fvc':aster_fvc}) \\\n",
    "    .clip(image.geometry())"
   ]
  },
  {
   "cell_type": "code",
   "execution_count": 57,
   "id": "46e326d8",
   "metadata": {},
   "outputs": [],
   "source": [
    "def EMaddBand(landsat, use_ndvi):\n",
    "  def wrap(image):\n",
    "\n",
    "    c13 = ee.Number(ee.Algorithms.If(landsat == 'L4',0.3222,\n",
    "                            ee.Algorithms.If(landsat == 'L5',-0.0723,\n",
    "                            ee.Algorithms.If(landsat == 'L7',0.2147,\n",
    "                            0.6820))))\n",
    "    c14 = ee.Number(ee.Algorithms.If(landsat == 'L4',0.6498,\n",
    "                            ee.Algorithms.If(landsat == 'L5',1.0521,\n",
    "                            ee.Algorithms.If(landsat == 'L7',0.7789,\n",
    "                            0.2578))))\n",
    "    c = ee.Number(ee.Algorithms.If(landsat == 'L4',0.0272,\n",
    "                            ee.Algorithms.If(landsat == 'L5',0.0195,\n",
    "                            ee.Algorithms.If(landsat == 'L7',0.0059,\n",
    "                            0.0584))))\n",
    "\n",
    "    # get ASTER emissivity\n",
    "    # convolve to Landsat band\n",
    "    emiss_bare = image.expression('c13*EM13 + c14*EM14 + c',{\n",
    "      'EM13':ASTERGEDemiss_bare_band13(image),\n",
    "      'EM14':ASTERGEDemiss_bare_band14(image),\n",
    "      'c13':ee.Image(c13),\n",
    "      'c14':ee.Image(c14),\n",
    "      'c':ee.Image(c)\n",
    "      })\n",
    "\n",
    "    # compute the dynamic emissivity for Landsat\n",
    "    EMd = image.expression('fvc*0.99+(1-fvc)*em_bare',\n",
    "      {'fvc':image.select('FVC'),'em_bare':emiss_bare})\n",
    "\n",
    "    # compute emissivity directly from ASTER\n",
    "    # without vegetation correction\n",
    "    # get ASTER emissivity\n",
    "    aster = ee.Image(\"NASA/ASTER_GED/AG100_003\") \\\n",
    "      .clip(image.geometry())\n",
    "    EM0 = image.expression('c13*EM13 + c14*EM14 + c',{\n",
    "      'EM13':aster.select('emissivity_band13').multiply(0.001),\n",
    "      'EM14':aster.select('emissivity_band14').multiply(0.001),\n",
    "      'c13':ee.Image(c13),\n",
    "      'c14':ee.Image(c14),\n",
    "      'c':ee.Image(c)\n",
    "      })\n",
    "\n",
    "    # select which emissivity to output based on user selection\n",
    "    EM = ee.Image(ee.Algorithms.If(use_ndvi,EMd,EM0))\n",
    "\n",
    "    return image.addBands(EM.rename('EM'))\n",
    "\n",
    "  return wrap"
   ]
  },
  {
   "cell_type": "code",
   "execution_count": 58,
   "id": "ae6d7557",
   "metadata": {},
   "outputs": [],
   "source": [
    "def get_lookup_table(fc, prop_1, prop_2):\n",
    "  reducer = ee.Reducer.toList().repeat(2)\n",
    "  lookup = fc.reduceColumns(reducer, [prop_1, prop_2])\n",
    "  return ee.List(lookup.get('list'))"
   ]
  },
  {
   "cell_type": "code",
   "execution_count": 59,
   "id": "925382fb",
   "metadata": {},
   "outputs": [],
   "source": [
    "def LSTaddBand(landsat):\n",
    "\n",
    "  def wrap(image):\n",
    "\n",
    "    # coefficients for the Statistical Mono-Window Algorithm\n",
    "    coeff_SMW_L8 = ee.FeatureCollection([\n",
    "    ee.Feature(None, {'TPWpos': 0, 'A': 0.9751, 'B': -205.8929, 'C': 212.7173}),\n",
    "    ee.Feature(None, {'TPWpos': 1, 'A': 1.0090, 'B': -232.2750, 'C': 230.5698}),\n",
    "    ee.Feature(None, {'TPWpos': 2, 'A': 1.0541, 'B': -253.1943, 'C': 238.9548}),\n",
    "    ee.Feature(None, {'TPWpos': 3, 'A': 1.1282, 'B': -279.4212, 'C': 244.0772}),\n",
    "    ee.Feature(None, {'TPWpos': 4, 'A': 1.1987, 'B': -307.4497, 'C': 251.8341}),\n",
    "    ee.Feature(None, {'TPWpos': 5, 'A': 1.3205, 'B': -348.0228, 'C': 257.2740}),\n",
    "    ee.Feature(None, {'TPWpos': 6, 'A': 1.4540, 'B': -393.1718, 'C': 263.5599}),\n",
    "    ee.Feature(None, {'TPWpos': 7, 'A': 1.6350, 'B': -451.0790, 'C': 268.9405}),\n",
    "    ee.Feature(None, {'TPWpos': 8, 'A': 1.5468, 'B': -429.5095, 'C': 275.0895}),\n",
    "    ee.Feature(None, {'TPWpos': 9, 'A': 1.9403, 'B': -547.2681, 'C': 277.9953})\n",
    "    ])\n",
    "\n",
    "    # Select algorithm coefficients\n",
    "    coeff_SMW = ee.FeatureCollection(coeff_SMW_L8)\n",
    "\n",
    "    # Create lookups for the algorithm coefficients\n",
    "    A_lookup = get_lookup_table(coeff_SMW, 'TPWpos', 'A')\n",
    "    B_lookup = get_lookup_table(coeff_SMW, 'TPWpos', 'B')\n",
    "    C_lookup = get_lookup_table(coeff_SMW, 'TPWpos', 'C')\n",
    "\n",
    "    # Map coefficients to the image using the TPW bin position\n",
    "    A_img = image.remap(A_lookup.get(0), A_lookup.get(1),0.0,'TPWpos').resample('bilinear')\n",
    "    B_img = image.remap(B_lookup.get(0), B_lookup.get(1),0.0,'TPWpos').resample('bilinear')\n",
    "    C_img = image.remap(C_lookup.get(0), C_lookup.get(1),0.0,'TPWpos').resample('bilinear')\n",
    "\n",
    "    # select TIR band\n",
    "    tir = ee.String(ee.Algorithms.If(landsat == 'L8','B10',\n",
    "                        ee.Algorithms.If(landsat == 'L7','B6_VCID_1',\n",
    "                        'B6')))\n",
    "    # compute the LST\n",
    "    lst = image.expression(\n",
    "      'A*Tb1/em1 + B/em1 + C',\n",
    "         {'A': A_img,\n",
    "          'B': B_img,\n",
    "          'C': C_img,\n",
    "          'em1': image.select('EM'),\n",
    "          'Tb1': image.select(tir)\n",
    "         }).updateMask(image.select('TPW').lt(0).Not())\n",
    "\n",
    "\n",
    "    return image.addBands(lst.rename('LST'))\n",
    "  \n",
    "  return wrap"
   ]
  },
  {
   "cell_type": "code",
   "execution_count": 60,
   "id": "746c6b0d",
   "metadata": {},
   "outputs": [],
   "source": [
    "# cloudmask for TOA data\n",
    "def cloudmasktoa(image):\n",
    "  qa = image.select('BQA')\n",
    "  mask = qa.bitwiseAnd(1 << 4).eq(0)\n",
    "  return image.updateMask(mask)"
   ]
  },
  {
   "cell_type": "code",
   "execution_count": 61,
   "id": "7970756c",
   "metadata": {},
   "outputs": [],
   "source": [
    "# cloudmask for SR data\n",
    "def cloudmasksr(image):\n",
    "  qa = image.select('pixel_qa')\n",
    "  mask = qa.bitwiseAnd(1 << 3) \\\n",
    "    .Or(qa.bitwiseAnd(1 << 5))\n",
    "  return image.updateMask(mask.Not())"
   ]
  },
  {
   "cell_type": "code",
   "execution_count": 62,
   "id": "e2c6f529",
   "metadata": {},
   "outputs": [],
   "source": [
    "def LSTcollection(landsat, date_start, date_end, geometry, image_limit, use_ndvi):\n",
    "\n",
    "  # load TOA Radiance/Reflectance\n",
    "  collection_dict = ee.Dictionary(COLLECTION.get(landsat))\n",
    "\n",
    "  landsatTOA = ee.ImageCollection(collection_dict.get('TOA')) \\\n",
    "                .filter(ee.Filter.date(date_start, date_end)) \\\n",
    "                .filterBounds(geometry) \\\n",
    "                .map(cloudmasktoa)\n",
    "                #.limit(image_limit,'CLOUD_COVER_LAND') \\\n",
    "    \n",
    "  # load Surface Reflectance collection for NDVI\n",
    "  landsatSR = ee.ImageCollection(collection_dict.get('SR')) \\\n",
    "                .filter(ee.Filter.date(date_start, date_end)) \\\n",
    "                .filterBounds(geometry) \\\n",
    "                .map(cloudmasksr) \\\n",
    "                .map(NDVIaddBand(landsat)) \\\n",
    "                .map(FVCaddBand(landsat)) \\\n",
    "                .map(NCEP_TPWaddBand) \\\n",
    "                .map(EMaddBand(landsat,use_ndvi))\n",
    "                #.limit(image_limit,'CLOUD_COVER_LAND') \\\n",
    "\n",
    "# combine collections\n",
    "# all channels from surface reflectance collection\n",
    "# except tir channels: from TOA collection\n",
    "# select TIR bands\n",
    "  tir = ee.List(collection_dict.get('TIR'))\n",
    "  landsatALL = (landsatSR.combine(landsatTOA.select(tir), True))\n",
    "\n",
    "  # compute the LST\n",
    "  landsatLST = landsatALL.map(LSTaddBand(landsat))\n",
    "\n",
    "  return landsatLST"
   ]
  },
  {
   "cell_type": "markdown",
   "id": "74d119d2",
   "metadata": {},
   "source": [
    "# Compute LST mean"
   ]
  },
  {
   "cell_type": "code",
   "execution_count": 63,
   "id": "1c2dc4e5",
   "metadata": {},
   "outputs": [],
   "source": [
    "# const\n",
    "start_date = '2015-01-01'\n",
    "end_date = '2022-06-28'\n",
    "landsat = 'L8' \n",
    "image_limit = 100\n",
    "month_start = 1\n",
    "month_end = 12\n",
    "use_ndvi = False"
   ]
  },
  {
   "cell_type": "code",
   "execution_count": 64,
   "id": "53c37829",
   "metadata": {},
   "outputs": [
    {
     "name": "stdout",
     "output_type": "stream",
     "text": [
      "       city_name     city_boundary_name country_code\n",
      "0       San_Jose      CRI-San_Jose-ADM2          CRI\n",
      "1       Salvador      BRA-Salvador-ADM4          BRA\n",
      "2         Bukavu        COD-Bukavu-ADM2          COD\n",
      "3          Uvira         COD-Uvira-ADM3          COD\n",
      "4    Brazzaville   COG-Brazzaville-ADM4          COG\n",
      "5   Barranquilla  COL-Barranquilla-ADM4          COL\n",
      "6    Addis_Ababa   ETH-Addis_Ababa-ADM4          ETH\n",
      "7      Dire_Dawa     ETH-Dire_Dawa-ADM3          ETH\n",
      "8        Nairobi       KEN-Nairobi-ADM3          KEN\n",
      "9   Antananarivo  MDG-Antananarivo-ADM4          MDG\n",
      "10   Mexico_City   MEX-Mexico_City-ADM2          MEX\n",
      "11     Monterrey     MEX-Monterrey-ADM2          MEX\n"
     ]
    }
   ],
   "source": [
    "# get list of urbanshift cities\n",
    "georef = pd.read_csv('https://cities-urbanshift.s3.eu-west-3.amazonaws.com/cities4forests/data/boundaries/geo_ref.csv') \n",
    "print(georef.to_string())"
   ]
  },
  {
   "cell_type": "code",
   "execution_count": 69,
   "id": "b07f1878",
   "metadata": {},
   "outputs": [],
   "source": [
    "i = 1\n",
    "boundary_id = georef.loc[i, 'city_boundary_name']\n",
    "print(boundary_id)\n",
    "boundary_path = 'https://cities-urbanshift.s3.eu-west-3.amazonaws.com/cities4forests/data/boundaries/'+boundary_id+'.geojson'"
   ]
  },
  {
   "cell_type": "code",
   "execution_count": 73,
   "id": "6329e323",
   "metadata": {},
   "outputs": [
    {
     "data": {
      "text/plain": [
       "'BRA-Salvador'"
      ]
     },
     "execution_count": 73,
     "metadata": {},
     "output_type": "execute_result"
    }
   ],
   "source": [
    "geo_name = georef.loc[i, 'country_code']+\"-\" + georef.loc[i, 'city_name']"
   ]
  },
  {
   "cell_type": "code",
   "execution_count": 70,
   "id": "0d6a0248",
   "metadata": {},
   "outputs": [],
   "source": [
    "DistrictsGJ = requests.get(boundary_path).json()\n",
    "Districts = geemap.geojson_to_ee(DistrictsGJ)\n",
    "roi = Districts\n",
    "ROIcenter = roi.geometry().centroid(1)"
   ]
  },
  {
   "cell_type": "code",
   "execution_count": 71,
   "id": "251df90a",
   "metadata": {},
   "outputs": [
    {
     "name": "stdout",
     "output_type": "stream",
     "text": [
      "2019-12-02\n",
      "2020-02-29\n"
     ]
    }
   ],
   "source": [
    "# get hottest period\n",
    "Hottest_period = get_hottest_period(Districts = Districts,\n",
    "                                    start_date = '2015-01-01',\n",
    "                                    end_date = '2022-06-28',\n",
    "                                   ROIcenter = ROIcenter)\n",
    "date_start = Hottest_period[0]\n",
    "date_end = Hottest_period[1]"
   ]
  },
  {
   "cell_type": "code",
   "execution_count": 72,
   "id": "09d1c576",
   "metadata": {},
   "outputs": [],
   "source": [
    "# compute LST mean\n",
    "LandsatColl = LSTcollection(landsat, date_start, date_end, roi, image_limit, use_ndvi).filter(ee.Filter.calendarRange(month_start, month_end, 'month'))\n",
    "LSTmean = LandsatColl.select('LST').reduce(ee.Reducer.mean()).subtract(273.15)"
   ]
  },
  {
   "cell_type": "code",
   "execution_count": 75,
   "id": "126b6e78",
   "metadata": {},
   "outputs": [
    {
     "name": "stdout",
     "output_type": "stream",
     "text": [
      "Generating URL ...\n",
      "Downloading data from https://earthengine.googleapis.com/v1alpha/projects/earthengine-legacy/thumbnails/416dce1b1400d5505e7fee8a5548a99b-8ef00548e0a4b36722297d76e3f8ffc9:getPixels\n",
      "Please wait ...\n",
      "Data downloaded to C:\\Users\\Saif.Shabou\\OneDrive - World Resources Institute\\Documents\\cities4forests\\scripts\\data\\BRA-Salvador_LST_mean.tif\n"
     ]
    }
   ],
   "source": [
    "# store output locally\n",
    "out_dir = os.getcwd()\n",
    "city_file = 'data\\\\' + geo_name +'_LST_mean.tif'\n",
    "filename = os.path.join(out_dir, city_file)\n",
    "\n",
    "geemap.ee_export_image(\n",
    "    LSTmean, \n",
    "    filename=filename, \n",
    "    scale=300, \n",
    "    region=roi.geometry(), \n",
    "    file_per_band=False\n",
    ")"
   ]
  },
  {
   "cell_type": "code",
   "execution_count": null,
   "id": "b9e58523",
   "metadata": {},
   "outputs": [],
   "source": [
    "out_dir = os.getcwd()"
   ]
  },
  {
   "cell_type": "code",
   "execution_count": 78,
   "id": "095fdd4c",
   "metadata": {},
   "outputs": [
    {
     "name": "stdout",
     "output_type": "stream",
     "text": [
      "0\n",
      "CRI-San_Jose\n",
      "2017-02-04\n",
      "2017-05-04\n",
      "Generating URL ...\n",
      "Downloading data from https://earthengine.googleapis.com/v1alpha/projects/earthengine-legacy/thumbnails/0328324fe45f2ebe1de0c8dce837ffa1-eb5f7f267c0066bbc53f27aa9a5afa7a:getPixels\n",
      "Please wait ...\n",
      "Data downloaded to C:\\Users\\Saif.Shabou\\OneDrive - World Resources Institute\\Documents\\cities4forests\\scripts\\data\\CRI-San_Jose_LST_mean.tif\n",
      "1\n",
      "BRA-Salvador\n",
      "2019-12-02\n",
      "2020-02-29\n",
      "Generating URL ...\n",
      "Downloading data from https://earthengine.googleapis.com/v1alpha/projects/earthengine-legacy/thumbnails/77720b73aabcd6ce8b89325a93d20d2b-efc0ffa89a319be971b8a8b7894fa414:getPixels\n",
      "Please wait ...\n",
      "Data downloaded to C:\\Users\\Saif.Shabou\\OneDrive - World Resources Institute\\Documents\\cities4forests\\scripts\\data\\BRA-Salvador_LST_mean.tif\n",
      "2\n",
      "COD-Bukavu\n",
      "2021-08-29\n",
      "2021-11-26\n",
      "Generating URL ...\n",
      "Downloading data from https://earthengine.googleapis.com/v1alpha/projects/earthengine-legacy/thumbnails/c022ea61ba34bc17faa8981332681910-6f294516913b88b9578600539bd721e6:getPixels\n",
      "Please wait ...\n",
      "Data downloaded to C:\\Users\\Saif.Shabou\\OneDrive - World Resources Institute\\Documents\\cities4forests\\scripts\\data\\COD-Bukavu_LST_mean.tif\n",
      "3\n",
      "COD-Uvira\n",
      "2021-08-29\n",
      "2021-11-26\n",
      "Generating URL ...\n",
      "Downloading data from https://earthengine.googleapis.com/v1alpha/projects/earthengine-legacy/thumbnails/61140206a623a0f64a69cf720954ecdd-4c2bc1adeb76114021b0e0a54b4e4504:getPixels\n",
      "Please wait ...\n",
      "[WinError 32] The process cannot access the file because it is being used by another process: 'C:\\\\Users\\\\Saif.Shabou\\\\OneDrive - World Resources Institute\\\\Documents\\\\cities4forests\\\\scripts\\\\data\\\\COD-Uvira_LST_mean.zip'\n",
      "4\n",
      "COG-Brazzaville\n",
      "2021-04-28\n",
      "2021-07-26\n",
      "Generating URL ...\n",
      "Downloading data from https://earthengine.googleapis.com/v1alpha/projects/earthengine-legacy/thumbnails/11e59ad7ed75ee0eda7acae32c9babf8-50f81e4aeb729330bb9118f8ac7d17b3:getPixels\n",
      "Please wait ...\n",
      "Data downloaded to C:\\Users\\Saif.Shabou\\OneDrive - World Resources Institute\\Documents\\cities4forests\\scripts\\data\\COG-Brazzaville_LST_mean.tif\n",
      "5\n",
      "COL-Barranquilla\n",
      "2017-01-16\n",
      "2017-04-15\n",
      "Generating URL ...\n",
      "Downloading data from https://earthengine.googleapis.com/v1alpha/projects/earthengine-legacy/thumbnails/0df3763005a174ccfba2a524f6a81c15-efc9d74da59e4135ec643b62eaeee74b:getPixels\n",
      "Please wait ...\n",
      "Data downloaded to C:\\Users\\Saif.Shabou\\OneDrive - World Resources Institute\\Documents\\cities4forests\\scripts\\data\\COL-Barranquilla_LST_mean.tif\n",
      "6\n",
      "ETH-Addis_Ababa\n",
      "2019-01-30\n",
      "2019-04-29\n",
      "Generating URL ...\n",
      "Downloading data from https://earthengine.googleapis.com/v1alpha/projects/earthengine-legacy/thumbnails/e55719baba4c539947c55411a31282a8-d5f921d668242320d55e5009b0fcba6c:getPixels\n",
      "Please wait ...\n",
      "Data downloaded to C:\\Users\\Saif.Shabou\\OneDrive - World Resources Institute\\Documents\\cities4forests\\scripts\\data\\ETH-Addis_Ababa_LST_mean.tif\n",
      "7\n",
      "ETH-Dire_Dawa\n",
      "2021-04-21\n",
      "2021-07-19\n",
      "Generating URL ...\n",
      "Downloading data from https://earthengine.googleapis.com/v1alpha/projects/earthengine-legacy/thumbnails/7c351b60227a55c3db6847c720c01bb8-2f62907b5c07acad11996481e2cd993d:getPixels\n",
      "Please wait ...\n",
      "Data downloaded to C:\\Users\\Saif.Shabou\\OneDrive - World Resources Institute\\Documents\\cities4forests\\scripts\\data\\ETH-Dire_Dawa_LST_mean.tif\n",
      "8\n",
      "KEN-Nairobi\n",
      "2017-02-06\n",
      "2017-05-06\n",
      "Generating URL ...\n",
      "Downloading data from https://earthengine.googleapis.com/v1alpha/projects/earthengine-legacy/thumbnails/346d204db1cf20130e6d1fe8b187ca85-3cee290c26d18b9d2db3601b9c0ac454:getPixels\n",
      "Please wait ...\n",
      "Data downloaded to C:\\Users\\Saif.Shabou\\OneDrive - World Resources Institute\\Documents\\cities4forests\\scripts\\data\\KEN-Nairobi_LST_mean.tif\n",
      "9\n",
      "MDG-Antananarivo\n",
      "2016-10-23\n",
      "2017-01-20\n",
      "Generating URL ...\n",
      "Downloading data from https://earthengine.googleapis.com/v1alpha/projects/earthengine-legacy/thumbnails/0e2faa2bd8e0dff723372e02654cbd81-d0d7466fb2586edd53de8ffa8faf3e2f:getPixels\n",
      "Please wait ...\n",
      "Data downloaded to C:\\Users\\Saif.Shabou\\OneDrive - World Resources Institute\\Documents\\cities4forests\\scripts\\data\\MDG-Antananarivo_LST_mean.tif\n",
      "10\n",
      "MEX-Mexico_City\n",
      "2017-04-07\n",
      "2017-07-05\n",
      "Generating URL ...\n",
      "Downloading data from https://earthengine.googleapis.com/v1alpha/projects/earthengine-legacy/thumbnails/88b52c2d707c17c0a48e345de6727671-23612dc4a11b2cc92b4686eb422db008:getPixels\n",
      "Please wait ...\n",
      "Data downloaded to C:\\Users\\Saif.Shabou\\OneDrive - World Resources Institute\\Documents\\cities4forests\\scripts\\data\\MEX-Mexico_City_LST_mean.tif\n",
      "11\n",
      "MEX-Monterrey\n",
      "2015-06-07\n",
      "2015-09-04\n",
      "Generating URL ...\n",
      "Downloading data from https://earthengine.googleapis.com/v1alpha/projects/earthengine-legacy/thumbnails/3f890400223557b4803bfcbb1fd7005b-206d872dc31381018c2b6f0dcf435c30:getPixels\n",
      "Please wait ...\n",
      "Data downloaded to C:\\Users\\Saif.Shabou\\OneDrive - World Resources Institute\\Documents\\cities4forests\\scripts\\data\\MEX-Monterrey_LST_mean.tif\n"
     ]
    }
   ],
   "source": [
    "for i in range(0,len(georef)):\n",
    "    print(i)\n",
    "    boundary_id = georef.loc[i, 'city_boundary_name']\n",
    "    geo_name = georef.loc[i, 'country_code']+\"-\" + georef.loc[i, 'city_name']\n",
    "    print(geo_name)\n",
    "    \n",
    "    # Get geometry\n",
    "    boundary_path = 'https://cities-urbanshift.s3.eu-west-3.amazonaws.com/cities4forests/data/boundaries/'+boundary_id+'.geojson'\n",
    "    DistrictsGJ = requests.get(boundary_path).json()\n",
    "    Districts = geemap.geojson_to_ee(DistrictsGJ)\n",
    "    roi = Districts\n",
    "    ROIcenter = roi.geometry().centroid(1)\n",
    "    \n",
    "    # get hottest period\n",
    "    Hottest_period = get_hottest_period(Districts = Districts,\n",
    "                                        start_date = '2015-01-01',\n",
    "                                        end_date = '2022-06-28',\n",
    "                                       ROIcenter = ROIcenter)\n",
    "    date_start = Hottest_period[0]\n",
    "    date_end = Hottest_period[1]\n",
    "    \n",
    "    # compute LST mean\n",
    "    LandsatColl = LSTcollection(landsat, date_start, date_end, roi, image_limit, use_ndvi).filter(ee.Filter.calendarRange(month_start, month_end, 'month'))\n",
    "    LSTmean = LandsatColl.select('LST').reduce(ee.Reducer.mean()).subtract(273.15)\n",
    "    \n",
    "    # store locally\n",
    "    city_file = 'data\\\\' + geo_name +'_LST_mean.tif'\n",
    "    filename = os.path.join(out_dir, city_file)\n",
    "\n",
    "    geemap.ee_export_image(\n",
    "        LSTmean, \n",
    "        filename=filename, \n",
    "        scale=1000, \n",
    "        region=roi.geometry(), \n",
    "        file_per_band=False\n",
    "    )"
   ]
  },
  {
   "cell_type": "code",
   "execution_count": null,
   "id": "76bb6cca",
   "metadata": {},
   "outputs": [],
   "source": []
  }
 ],
 "metadata": {
  "kernelspec": {
   "display_name": "Python 3 (ipykernel)",
   "language": "python",
   "name": "python3"
  },
  "language_info": {
   "codemirror_mode": {
    "name": "ipython",
    "version": 3
   },
   "file_extension": ".py",
   "mimetype": "text/x-python",
   "name": "python",
   "nbconvert_exporter": "python",
   "pygments_lexer": "ipython3",
   "version": "3.10.5"
  }
 },
 "nbformat": 4,
 "nbformat_minor": 5
}
