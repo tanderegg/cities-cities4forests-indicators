{
 "cells": [
  {
   "cell_type": "code",
   "execution_count": 241,
   "id": "5e43bc8d",
   "metadata": {},
   "outputs": [],
   "source": [
    "import numpy as np\n",
    "import requests\n",
    "import pandas as pd\n",
    "import geopandas as gpd\n",
    "import rasterio\n",
    "from rasterstats import zonal_stats\n",
    "import rasterio.mask\n",
    "import matplotlib.pyplot as plt\n",
    "import fiona\n",
    "import rasterio\n",
    "import rasterio.mask\n",
    "from rasterio.enums import Resampling\n",
    "import json"
   ]
  },
  {
   "cell_type": "code",
   "execution_count": 2,
   "id": "2b60da36",
   "metadata": {},
   "outputs": [
    {
     "data": {
      "text/html": [
       "<div>\n",
       "<style scoped>\n",
       "    .dataframe tbody tr th:only-of-type {\n",
       "        vertical-align: middle;\n",
       "    }\n",
       "\n",
       "    .dataframe tbody tr th {\n",
       "        vertical-align: top;\n",
       "    }\n",
       "\n",
       "    .dataframe thead th {\n",
       "        text-align: right;\n",
       "    }\n",
       "</style>\n",
       "<table border=\"1\" class=\"dataframe\">\n",
       "  <thead>\n",
       "    <tr style=\"text-align: right;\">\n",
       "      <th></th>\n",
       "      <th>city_name</th>\n",
       "      <th>geo_name</th>\n",
       "      <th>aoi_boundary_name</th>\n",
       "      <th>units_boundary_name</th>\n",
       "      <th>city_boundary_name</th>\n",
       "      <th>country_code</th>\n",
       "      <th>geo_level</th>\n",
       "    </tr>\n",
       "  </thead>\n",
       "  <tbody>\n",
       "    <tr>\n",
       "      <th>0</th>\n",
       "      <td>Salvador</td>\n",
       "      <td>BRA-Salvador</td>\n",
       "      <td>ADM4union</td>\n",
       "      <td>ADM4</td>\n",
       "      <td>BRA-Salvador-ADM4</td>\n",
       "      <td>BRA</td>\n",
       "      <td>ADM4</td>\n",
       "    </tr>\n",
       "    <tr>\n",
       "      <th>1</th>\n",
       "      <td>Bukavu</td>\n",
       "      <td>COD-Bukavu</td>\n",
       "      <td>ADM3union</td>\n",
       "      <td>ADM3</td>\n",
       "      <td>COD-Bukavu-ADM3</td>\n",
       "      <td>COD</td>\n",
       "      <td>ADM3</td>\n",
       "    </tr>\n",
       "    <tr>\n",
       "      <th>2</th>\n",
       "      <td>Uvira</td>\n",
       "      <td>COD-Uvira</td>\n",
       "      <td>ADM3union</td>\n",
       "      <td>ADM3</td>\n",
       "      <td>COD-Uvira-ADM3</td>\n",
       "      <td>COD</td>\n",
       "      <td>ADM3</td>\n",
       "    </tr>\n",
       "    <tr>\n",
       "      <th>3</th>\n",
       "      <td>Brazzaville</td>\n",
       "      <td>COG-Brazzaville</td>\n",
       "      <td>ADM4union</td>\n",
       "      <td>ADM4</td>\n",
       "      <td>COG-Brazzaville-ADM4</td>\n",
       "      <td>COG</td>\n",
       "      <td>ADM4</td>\n",
       "    </tr>\n",
       "    <tr>\n",
       "      <th>4</th>\n",
       "      <td>Barranquilla</td>\n",
       "      <td>COL-Barranquilla</td>\n",
       "      <td>ADM4union</td>\n",
       "      <td>ADM4</td>\n",
       "      <td>COL-Barranquilla-ADM4</td>\n",
       "      <td>COL</td>\n",
       "      <td>ADM4</td>\n",
       "    </tr>\n",
       "    <tr>\n",
       "      <th>5</th>\n",
       "      <td>Addis_Ababa</td>\n",
       "      <td>ETH-Addis_Ababa</td>\n",
       "      <td>ADM4union</td>\n",
       "      <td>ADM4</td>\n",
       "      <td>ETH-Addis_Ababa-ADM4</td>\n",
       "      <td>ETH</td>\n",
       "      <td>ADM4</td>\n",
       "    </tr>\n",
       "    <tr>\n",
       "      <th>6</th>\n",
       "      <td>Dire_Dawa</td>\n",
       "      <td>ETH-Dire_Dawa</td>\n",
       "      <td>ADM3union</td>\n",
       "      <td>ADM3</td>\n",
       "      <td>ETH-Dire_Dawa-ADM3</td>\n",
       "      <td>ETH</td>\n",
       "      <td>ADM3</td>\n",
       "    </tr>\n",
       "    <tr>\n",
       "      <th>7</th>\n",
       "      <td>Nairobi</td>\n",
       "      <td>KEN-Nairobi</td>\n",
       "      <td>ADM3union</td>\n",
       "      <td>ADM3</td>\n",
       "      <td>KEN-Nairobi-ADM3</td>\n",
       "      <td>KEN</td>\n",
       "      <td>ADM3</td>\n",
       "    </tr>\n",
       "    <tr>\n",
       "      <th>8</th>\n",
       "      <td>Antananarivo</td>\n",
       "      <td>MDG-Antananarivo</td>\n",
       "      <td>ADM4union</td>\n",
       "      <td>ADM4</td>\n",
       "      <td>MDG-Antananarivo-ADM4</td>\n",
       "      <td>MDG</td>\n",
       "      <td>ADM4</td>\n",
       "    </tr>\n",
       "    <tr>\n",
       "      <th>9</th>\n",
       "      <td>Mexico_City</td>\n",
       "      <td>MEX-Mexico_City</td>\n",
       "      <td>ADM2union</td>\n",
       "      <td>ADM2</td>\n",
       "      <td>MEX-Mexico_City-ADM2</td>\n",
       "      <td>MEX</td>\n",
       "      <td>ADM2</td>\n",
       "    </tr>\n",
       "    <tr>\n",
       "      <th>10</th>\n",
       "      <td>Monterrey</td>\n",
       "      <td>MEX-Monterrey</td>\n",
       "      <td>ADM2union</td>\n",
       "      <td>ADM2</td>\n",
       "      <td>MEX-Monterrey-ADM2</td>\n",
       "      <td>MEX</td>\n",
       "      <td>ADM2</td>\n",
       "    </tr>\n",
       "    <tr>\n",
       "      <th>11</th>\n",
       "      <td>Musanze</td>\n",
       "      <td>RWA-Musanze</td>\n",
       "      <td>ADM5union</td>\n",
       "      <td>ADM5</td>\n",
       "      <td>RWA-Musanze-ADM5</td>\n",
       "      <td>RWA</td>\n",
       "      <td>ADM5</td>\n",
       "    </tr>\n",
       "  </tbody>\n",
       "</table>\n",
       "</div>"
      ],
      "text/plain": [
       "       city_name          geo_name aoi_boundary_name units_boundary_name  \\\n",
       "0       Salvador      BRA-Salvador         ADM4union                ADM4   \n",
       "1         Bukavu        COD-Bukavu         ADM3union                ADM3   \n",
       "2          Uvira         COD-Uvira         ADM3union                ADM3   \n",
       "3    Brazzaville   COG-Brazzaville         ADM4union                ADM4   \n",
       "4   Barranquilla  COL-Barranquilla         ADM4union                ADM4   \n",
       "5    Addis_Ababa   ETH-Addis_Ababa         ADM4union                ADM4   \n",
       "6      Dire_Dawa     ETH-Dire_Dawa         ADM3union                ADM3   \n",
       "7        Nairobi       KEN-Nairobi         ADM3union                ADM3   \n",
       "8   Antananarivo  MDG-Antananarivo         ADM4union                ADM4   \n",
       "9    Mexico_City   MEX-Mexico_City         ADM2union                ADM2   \n",
       "10     Monterrey     MEX-Monterrey         ADM2union                ADM2   \n",
       "11       Musanze       RWA-Musanze         ADM5union                ADM5   \n",
       "\n",
       "       city_boundary_name country_code geo_level  \n",
       "0       BRA-Salvador-ADM4          BRA      ADM4  \n",
       "1         COD-Bukavu-ADM3          COD      ADM3  \n",
       "2          COD-Uvira-ADM3          COD      ADM3  \n",
       "3    COG-Brazzaville-ADM4          COG      ADM4  \n",
       "4   COL-Barranquilla-ADM4          COL      ADM4  \n",
       "5    ETH-Addis_Ababa-ADM4          ETH      ADM4  \n",
       "6      ETH-Dire_Dawa-ADM3          ETH      ADM3  \n",
       "7        KEN-Nairobi-ADM3          KEN      ADM3  \n",
       "8   MDG-Antananarivo-ADM4          MDG      ADM4  \n",
       "9    MEX-Mexico_City-ADM2          MEX      ADM2  \n",
       "10     MEX-Monterrey-ADM2          MEX      ADM2  \n",
       "11       RWA-Musanze-ADM5          RWA      ADM5  "
      ]
     },
     "execution_count": 2,
     "metadata": {},
     "output_type": "execute_result"
    }
   ],
   "source": [
    "# get list of c4f cities\n",
    "boundary_georef = pd.read_csv('https://cities-cities4forests.s3.eu-west-3.amazonaws.com/data/boundaries/v_0/boundary_georef.csv')\n",
    "boundary_georef"
   ]
  },
  {
   "cell_type": "code",
   "execution_count": 42,
   "id": "ff791498",
   "metadata": {},
   "outputs": [
    {
     "data": {
      "text/html": [
       "<div>\n",
       "<style scoped>\n",
       "    .dataframe tbody tr th:only-of-type {\n",
       "        vertical-align: middle;\n",
       "    }\n",
       "\n",
       "    .dataframe tbody tr th {\n",
       "        vertical-align: top;\n",
       "    }\n",
       "\n",
       "    .dataframe thead th {\n",
       "        text-align: right;\n",
       "    }\n",
       "</style>\n",
       "<table border=\"1\" class=\"dataframe\">\n",
       "  <thead>\n",
       "    <tr style=\"text-align: right;\">\n",
       "      <th></th>\n",
       "      <th>city_name</th>\n",
       "      <th>geo_name</th>\n",
       "      <th>aoi_boundary_name</th>\n",
       "      <th>units_boundary_name</th>\n",
       "      <th>city_boundary_name</th>\n",
       "      <th>country_code</th>\n",
       "      <th>geo_level</th>\n",
       "    </tr>\n",
       "  </thead>\n",
       "  <tbody>\n",
       "    <tr>\n",
       "      <th>0</th>\n",
       "      <td>Bukavu</td>\n",
       "      <td>COD-Bukavu</td>\n",
       "      <td>ADM3union</td>\n",
       "      <td>ADM3</td>\n",
       "      <td>COD-Bukavu-ADM3</td>\n",
       "      <td>COD</td>\n",
       "      <td>ADM3</td>\n",
       "    </tr>\n",
       "    <tr>\n",
       "      <th>1</th>\n",
       "      <td>Uvira</td>\n",
       "      <td>COD-Uvira</td>\n",
       "      <td>ADM3union</td>\n",
       "      <td>ADM3</td>\n",
       "      <td>COD-Uvira-ADM3</td>\n",
       "      <td>COD</td>\n",
       "      <td>ADM3</td>\n",
       "    </tr>\n",
       "    <tr>\n",
       "      <th>2</th>\n",
       "      <td>Brazzaville</td>\n",
       "      <td>COG-Brazzaville</td>\n",
       "      <td>ADM4union</td>\n",
       "      <td>ADM4</td>\n",
       "      <td>COG-Brazzaville-ADM4</td>\n",
       "      <td>COG</td>\n",
       "      <td>ADM4</td>\n",
       "    </tr>\n",
       "    <tr>\n",
       "      <th>3</th>\n",
       "      <td>Barranquilla</td>\n",
       "      <td>COL-Barranquilla</td>\n",
       "      <td>ADM4union</td>\n",
       "      <td>ADM4</td>\n",
       "      <td>COL-Barranquilla-ADM4</td>\n",
       "      <td>COL</td>\n",
       "      <td>ADM4</td>\n",
       "    </tr>\n",
       "    <tr>\n",
       "      <th>4</th>\n",
       "      <td>Addis_Ababa</td>\n",
       "      <td>ETH-Addis_Ababa</td>\n",
       "      <td>ADM4union</td>\n",
       "      <td>ADM4</td>\n",
       "      <td>ETH-Addis_Ababa-ADM4</td>\n",
       "      <td>ETH</td>\n",
       "      <td>ADM4</td>\n",
       "    </tr>\n",
       "    <tr>\n",
       "      <th>5</th>\n",
       "      <td>Dire_Dawa</td>\n",
       "      <td>ETH-Dire_Dawa</td>\n",
       "      <td>ADM3union</td>\n",
       "      <td>ADM3</td>\n",
       "      <td>ETH-Dire_Dawa-ADM3</td>\n",
       "      <td>ETH</td>\n",
       "      <td>ADM3</td>\n",
       "    </tr>\n",
       "    <tr>\n",
       "      <th>6</th>\n",
       "      <td>Nairobi</td>\n",
       "      <td>KEN-Nairobi</td>\n",
       "      <td>ADM3union</td>\n",
       "      <td>ADM3</td>\n",
       "      <td>KEN-Nairobi-ADM3</td>\n",
       "      <td>KEN</td>\n",
       "      <td>ADM3</td>\n",
       "    </tr>\n",
       "    <tr>\n",
       "      <th>7</th>\n",
       "      <td>Antananarivo</td>\n",
       "      <td>MDG-Antananarivo</td>\n",
       "      <td>ADM4union</td>\n",
       "      <td>ADM4</td>\n",
       "      <td>MDG-Antananarivo-ADM4</td>\n",
       "      <td>MDG</td>\n",
       "      <td>ADM4</td>\n",
       "    </tr>\n",
       "    <tr>\n",
       "      <th>8</th>\n",
       "      <td>Mexico_City</td>\n",
       "      <td>MEX-Mexico_City</td>\n",
       "      <td>ADM2union</td>\n",
       "      <td>ADM2</td>\n",
       "      <td>MEX-Mexico_City-ADM2</td>\n",
       "      <td>MEX</td>\n",
       "      <td>ADM2</td>\n",
       "    </tr>\n",
       "    <tr>\n",
       "      <th>9</th>\n",
       "      <td>Musanze</td>\n",
       "      <td>RWA-Musanze</td>\n",
       "      <td>ADM5union</td>\n",
       "      <td>ADM5</td>\n",
       "      <td>RWA-Musanze-ADM5</td>\n",
       "      <td>RWA</td>\n",
       "      <td>ADM5</td>\n",
       "    </tr>\n",
       "  </tbody>\n",
       "</table>\n",
       "</div>"
      ],
      "text/plain": [
       "      city_name          geo_name aoi_boundary_name units_boundary_name  \\\n",
       "0        Bukavu        COD-Bukavu         ADM3union                ADM3   \n",
       "1         Uvira         COD-Uvira         ADM3union                ADM3   \n",
       "2   Brazzaville   COG-Brazzaville         ADM4union                ADM4   \n",
       "3  Barranquilla  COL-Barranquilla         ADM4union                ADM4   \n",
       "4   Addis_Ababa   ETH-Addis_Ababa         ADM4union                ADM4   \n",
       "5     Dire_Dawa     ETH-Dire_Dawa         ADM3union                ADM3   \n",
       "6       Nairobi       KEN-Nairobi         ADM3union                ADM3   \n",
       "7  Antananarivo  MDG-Antananarivo         ADM4union                ADM4   \n",
       "8   Mexico_City   MEX-Mexico_City         ADM2union                ADM2   \n",
       "9       Musanze       RWA-Musanze         ADM5union                ADM5   \n",
       "\n",
       "      city_boundary_name country_code geo_level  \n",
       "0        COD-Bukavu-ADM3          COD      ADM3  \n",
       "1         COD-Uvira-ADM3          COD      ADM3  \n",
       "2   COG-Brazzaville-ADM4          COG      ADM4  \n",
       "3  COL-Barranquilla-ADM4          COL      ADM4  \n",
       "4   ETH-Addis_Ababa-ADM4          ETH      ADM4  \n",
       "5     ETH-Dire_Dawa-ADM3          ETH      ADM3  \n",
       "6       KEN-Nairobi-ADM3          KEN      ADM3  \n",
       "7  MDG-Antananarivo-ADM4          MDG      ADM4  \n",
       "8   MEX-Mexico_City-ADM2          MEX      ADM2  \n",
       "9       RWA-Musanze-ADM5          RWA      ADM5  "
      ]
     },
     "execution_count": 42,
     "metadata": {},
     "output_type": "execute_result"
    }
   ],
   "source": [
    "tml_not_available_cities = ['BRA-Salvador','MEX-Monterrey']\n",
    "boundary_georef = boundary_georef[~boundary_georef['geo_name'].isin(tml_not_available_cities)].reset_index(drop=True)\n",
    "boundary_georef"
   ]
  },
  {
   "cell_type": "code",
   "execution_count": 389,
   "id": "e2f1a18e",
   "metadata": {},
   "outputs": [
    {
     "name": "stdout",
     "output_type": "stream",
     "text": [
      "COG-Brazzaville-ADM4union\n",
      "COG-Brazzaville-ADM4union\n"
     ]
    }
   ],
   "source": [
    "i = 2\n",
    "city_name = boundary_georef.loc[i, 'geo_name']+'-'+boundary_georef.loc[i, 'aoi_boundary_name']\n",
    "print(city_name)\n",
    "\n",
    "boundary_id_aoi = boundary_georef.loc[i, 'geo_name']+'-'+boundary_georef.loc[i, 'aoi_boundary_name']\n",
    "boundary_id_unit = boundary_georef.loc[i, 'geo_name']+'-'+boundary_georef.loc[i, 'units_boundary_name']\n",
    "print(boundary_id_aoi)"
   ]
  },
  {
   "cell_type": "markdown",
   "id": "96e4980c",
   "metadata": {},
   "source": [
    "# AOI level"
   ]
  },
  {
   "cell_type": "code",
   "execution_count": 336,
   "id": "430e0757",
   "metadata": {},
   "outputs": [],
   "source": [
    "# load boundary\n",
    "# with fiona.open(\"https://cities-cities4forests.s3.eu-west-3.amazonaws.com/data/boundaries/v_0/boundary-\" +city_name+\".geojson\", \"r\") as shapefile:\n",
    "#     shapes = [feature[\"geometry\"] for feature in shapefile]\n",
    "    \n",
    "boundary_geo = gpd.read_file(\"https://cities-cities4forests.s3.eu-west-3.amazonaws.com/data/boundaries/v_0/boundary-\" +boundary_id_aoi+\".geojson\")\n",
    "shapes = boundary_geo[\"geometry\"][0]"
   ]
  },
  {
   "cell_type": "code",
   "execution_count": 337,
   "id": "082f7488",
   "metadata": {},
   "outputs": [
    {
     "name": "stderr",
     "output_type": "stream",
     "text": [
      "C:\\Users\\Saif.Shabou\\anaconda3\\envs\\urbanshift_env\\lib\\site-packages\\rasterio\\features.py:445: ShapelyDeprecationWarning: Iteration over multi-part geometries is deprecated and will be removed in Shapely 2.0. Use the `geoms` property to access the constituent parts of a multi-part geometry.\n",
      "  all_bounds = [bounds(shape, transform=~dataset.transform) for shape in shapes]\n",
      "C:\\Users\\Saif.Shabou\\anaconda3\\envs\\urbanshift_env\\lib\\site-packages\\rasterio\\features.py:288: ShapelyDeprecationWarning: Iteration over multi-part geometries is deprecated and will be removed in Shapely 2.0. Use the `geoms` property to access the constituent parts of a multi-part geometry.\n",
      "  for index, item in enumerate(shapes):\n"
     ]
    },
    {
     "data": {
      "text/plain": [
       "{'driver': 'GTiff',\n",
       " 'dtype': 'uint8',\n",
       " 'nodata': None,\n",
       " 'width': 1961,\n",
       " 'height': 3332,\n",
       " 'count': 1,\n",
       " 'crs': CRS.from_epsg(4326),\n",
       " 'transform': Affine(8.983152841195215e-05, 0.0, 15.144891925005368,\n",
       "        0.0, -8.983152841195215e-05, -4.076040683725779)}"
      ]
     },
     "execution_count": 337,
     "metadata": {},
     "output_type": "execute_result"
    }
   ],
   "source": [
    "# load esa world cover\n",
    "with rasterio.open(\"https://cities-cities4forests.s3.eu-west-3.amazonaws.com/data/land_use/esa_world_cover/v_0/\" +boundary_id_aoi+\"-ESA-world_cover-2020-built_up.tif\") as src:\n",
    "    out_image_lc, out_transform_lc = rasterio.mask.mask(src, shapes, crop=True, nodata=0)\n",
    "    out_meta_lc = src.meta\n",
    "\n",
    "# keep built-up areas\n",
    "out_image_lc[out_image_lc != 50] = 0\n",
    "out_image_lc[out_image_lc == 50] = 1\n",
    "\n",
    "out_meta_lc"
   ]
  },
  {
   "cell_type": "code",
   "execution_count": 338,
   "id": "e6654dba",
   "metadata": {},
   "outputs": [
    {
     "name": "stderr",
     "output_type": "stream",
     "text": [
      "C:\\Users\\Saif.Shabou\\anaconda3\\envs\\urbanshift_env\\lib\\site-packages\\rasterio\\features.py:445: ShapelyDeprecationWarning: Iteration over multi-part geometries is deprecated and will be removed in Shapely 2.0. Use the `geoms` property to access the constituent parts of a multi-part geometry.\n",
      "  all_bounds = [bounds(shape, transform=~dataset.transform) for shape in shapes]\n",
      "C:\\Users\\Saif.Shabou\\anaconda3\\envs\\urbanshift_env\\lib\\site-packages\\rasterio\\features.py:288: ShapelyDeprecationWarning: Iteration over multi-part geometries is deprecated and will be removed in Shapely 2.0. Use the `geoms` property to access the constituent parts of a multi-part geometry.\n",
      "  for index, item in enumerate(shapes):\n"
     ]
    },
    {
     "data": {
      "text/plain": [
       "{'driver': 'GTiff',\n",
       " 'dtype': 'float64',\n",
       " 'nodata': None,\n",
       " 'width': 1961,\n",
       " 'height': 3332,\n",
       " 'count': 1,\n",
       " 'crs': CRS.from_epsg(4326),\n",
       " 'transform': Affine(8.983152841195215e-05, 0.0, 15.144877038027836,\n",
       "        0.0, -8.983152841195215e-05, -4.076015770163917)}"
      ]
     },
     "execution_count": 338,
     "metadata": {},
     "output_type": "execute_result"
    }
   ],
   "source": [
    "# Tree cover\n",
    "with rasterio.open(\"https://cities-cities4forests.s3.eu-west-3.amazonaws.com/data/tree_cover/tree_mosaic_land/v_0/\" +boundary_id_aoi+\"-TML-tree_cover-2000.tif\") as src:\n",
    "    out_image_tml, out_transform_tml = rasterio.mask.mask(src, shapes, crop=True, nodata=0)\n",
    "    out_meta_tml = src.meta\n",
    "    \n",
    "out_meta_tml"
   ]
  },
  {
   "cell_type": "code",
   "execution_count": 339,
   "id": "b0d8b359",
   "metadata": {},
   "outputs": [],
   "source": [
    "# load and esample tree cover\n",
    "upscale_factor_width =  out_meta_lc['width']/out_meta_tml['width']\n",
    "upscale_factor_height =  out_meta_lc['height']/out_meta_tml['height']\n",
    "\n",
    "with rasterio.open(\"https://cities-cities4forests.s3.eu-west-3.amazonaws.com/data/tree_cover/tree_mosaic_land/v_0/\" +boundary_id_aoi+\"-TML-tree_cover-2000.tif\") as dataset:\n",
    "\n",
    "    # resample data to target shape\n",
    "    tml_sampled = dataset.read(\n",
    "        out_shape=(\n",
    "            dataset.count,\n",
    "            int(dataset.height * upscale_factor_height),\n",
    "            int(dataset.width * upscale_factor_width)\n",
    "        ),\n",
    "        resampling=Resampling.bilinear\n",
    "    )\n",
    "\n",
    "    # scale image transform\n",
    "    transform = dataset.transform * dataset.transform.scale(\n",
    "        (dataset.width / data.shape[-1]),\n",
    "        (dataset.height / data.shape[-2])\n",
    "    )"
   ]
  },
  {
   "cell_type": "code",
   "execution_count": 340,
   "id": "51fd4dcc",
   "metadata": {},
   "outputs": [
    {
     "data": {
      "text/plain": [
       "0.889839906403176"
      ]
     },
     "execution_count": 340,
     "metadata": {},
     "output_type": "execute_result"
    }
   ],
   "source": [
    "# compute tree cover in built up\n",
    "city_built_tml = out_image_lc * tml_sampled\n",
    "np.nanmean(city_built_tml,dtype=np.float64)"
   ]
  },
  {
   "cell_type": "markdown",
   "id": "93945079",
   "metadata": {},
   "source": [
    "# Unit of Analysis"
   ]
  },
  {
   "cell_type": "code",
   "execution_count": 430,
   "id": "c7f1afb0",
   "metadata": {},
   "outputs": [],
   "source": [
    "# load boundary\n",
    "# with fiona.open(\"https://cities-cities4forests.s3.eu-west-3.amazonaws.com/data/boundaries/v_0/boundary-\" +city_name+\".geojson\", \"r\") as shapefile:\n",
    "#     shapes = [feature[\"geometry\"] for feature in shapefile]\n",
    "    \n",
    "boundary_geo = gpd.read_file(\"https://cities-cities4forests.s3.eu-west-3.amazonaws.com/data/boundaries/v_0/boundary-\" +boundary_id_unit+\".geojson\")\n",
    "shapes = boundary_geo[\"geometry\"][0]"
   ]
  },
  {
   "cell_type": "code",
   "execution_count": 431,
   "id": "56e8b25f",
   "metadata": {},
   "outputs": [
    {
     "data": {
      "image/svg+xml": [
       "<svg xmlns=\"http://www.w3.org/2000/svg\" xmlns:xlink=\"http://www.w3.org/1999/xlink\" width=\"100.0\" height=\"100.0\" viewBox=\"15.252030949891223 -4.193724826639372 0.04755982861994035 0.04399386353646406\" preserveAspectRatio=\"xMinYMin meet\"><g transform=\"matrix(1,0,0,-1,0,-8.34345578974228)\"><g><path fill-rule=\"evenodd\" fill=\"#66cc99\" stroke=\"#555555\" stroke-width=\"0.0009511965723988069\" opacity=\"0.6\" d=\"M 15.297604147769945,-4.185903560514115 L 15.297596531467246,-4.185901902437728 L 15.29782930337709,-4.186178475694839 L 15.294672038516962,-4.185454249017097 L 15.29373881334219,-4.185240178633793 L 15.293720804322705,-4.185236047433074 L 15.290834815310806,-4.184574031020553 L 15.290097679366765,-4.185038877111945 L 15.289091934153213,-4.185823544594686 L 15.288159519705172,-4.186550998683115 L 15.28804576913522,-4.186639743654613 L 15.287168890433454,-4.187323866864491 L 15.28672036742659,-4.187673794788539 L 15.286661336371605,-4.187719848852003 L 15.28583013203812,-4.188368335213174 L 15.285627530120614,-4.188989670883889 L 15.285231154966135,-4.190205262959955 L 15.284833687831874,-4.191424204373603 L 15.28465788376904,-4.1919633515053 L 15.284058647570404,-4.191758533157611 L 15.283956734350825,-4.191723698753453 L 15.28270600480982,-4.191295506456647 L 15.282369292878093,-4.191171813996413 L 15.281947510519807,-4.191035832282677 L 15.281578368788788,-4.190909454346516 L 15.281214888298948,-4.190785013805555 L 15.280977519043404,-4.190703749332823 L 15.280439962130341,-4.190519711526226 L 15.278504140224621,-4.189856963814945 L 15.278360018653709,-4.189807621895631 L 15.277970756762201,-4.189674353931069 L 15.277458072050962,-4.18950046368767 L 15.276869781093056,-4.189299053523871 L 15.276553564408841,-4.189190793020598 L 15.276089931837918,-4.18903206125432 L 15.276089071226627,-4.189031766635247 L 15.275361833210457,-4.185469782948482 L 15.275361757391927,-4.185469410250079 L 15.273795725161866,-4.185640174368724 L 15.273794861987044,-4.185640268756966 L 15.273820409217349,-4.183556304616956 L 15.269997532158449,-4.179845529213929 L 15.269997009632611,-4.179845764609136 L 15.269790021268783,-4.179644844736093 L 15.265559934848039,-4.175084469418466 L 15.263733422064496,-4.173115316570454 L 15.263304158245747,-4.172684609043216 L 15.26216441815115,-4.172711053613849 L 15.255748256008626,-4.176638248870769 L 15.255594389271227,-4.176732426811922 L 15.254999721122164,-4.177096405472478 L 15.254999756935481,-4.177095698005568 L 15.25398583227677,-4.177708277467688 L 15.253831978438054,-4.177681348140791 L 15.253831934284278,-4.177681340013026 L 15.25379496236329,-4.177674869096435 L 15.253792604198154,-4.177674456424312 L 15.253792425025296,-4.177674876251239 L 15.253798387028542,-4.177595737933781 L 15.253805909288472,-4.177495883878132 L 15.253836604293408,-4.177083929575629 L 15.253861558267197,-4.176749017386535 L 15.253866314178897,-4.176685182024673 L 15.253879782535185,-4.176504419205307 L 15.25388636060383,-4.176416132619384 L 15.253889504298904,-4.176373949350414 L 15.253895252481197,-4.176296798669606 L 15.2538954247387,-4.176294488075526 L 15.253898162907573,-4.176257735697907 L 15.25390313074954,-4.176188881133467 L 15.253904644966346,-4.176167903054181 L 15.253905334795782,-4.176158344946245 L 15.253905803053215,-4.176151852851429 L 15.253906603219118,-4.176140764903411 L 15.253911776483788,-4.17606906326208 L 15.253913449475295,-4.176045877725904 L 15.253916905796329,-4.175997982241491 L 15.253927481073822,-4.175851421570685 L 15.253932135842346,-4.175786901401911 L 15.2539397688075,-4.175681121689602 L 15.253946261321527,-4.175592997971251 L 15.25397408482836,-4.175215328122299 L 15.253992165521156,-4.174969895869958 L 15.254085903514351,-4.173697516978295 L 15.25409669026454,-4.173567042247215 L 15.254172797919834,-4.172646479720346 L 15.254191099820863,-4.172425105389627 L 15.254198382522786,-4.172337013977439 L 15.254199704609407,-4.172321018905373 L 15.25436008400822,-4.170253598586768 L 15.254361002524023,-4.170240708487531 L 15.254363425285824,-4.170206699180402 L 15.25442066649633,-4.169403249194058 L 15.254440414774042,-4.169180024320001 L 15.254496666400192,-4.168544192724537 L 15.254543947455483,-4.168009761754363 L 15.254554069465856,-4.167930708920851 L 15.254554379543915,-4.167928288816069 L 15.254590373711844,-4.16754917511066 L 15.25469030457008,-4.166938768775346 L 15.254785839943148,-4.166607971601966 L 15.254786738101124,-4.166604642108434 L 15.254843220342758,-4.166395254964068 L 15.254915243914162,-4.1661282540052 L 15.255088854199611,-4.165668440256175 L 15.255089305230836,-4.165667245034694 L 15.255176142136182,-4.165401905656578 L 15.255411968555633,-4.164820178510674 L 15.255791334931988,-4.164115982236853 L 15.255792932374158,-4.164112939296595 L 15.255923882965865,-4.163863477908006 L 15.255997986572854,-4.163722310984499 L 15.256069986378701,-4.163620560502932 L 15.25634086471524,-4.163237752384377 L 15.256341213253346,-4.163237259223121 L 15.256439000995096,-4.163084517372255 L 15.256690869912672,-4.162743123205416 L 15.256691540883173,-4.162742213788491 L 15.256691590417672,-4.16274214592173 L 15.256771266584918,-4.162631395890426 L 15.257234052721914,-4.162081283968193 L 15.257234176116976,-4.162081143703287 L 15.257234257179368,-4.162081051399963 L 15.257298937717566,-4.162010044956921 L 15.257299023286249,-4.162009956270825 L 15.258060515368076,-4.161262189644318 L 15.25848159366195,-4.160901430056954 L 15.258481688244169,-4.160901352223871 L 15.258628320761872,-4.160787357567884 L 15.258628905384226,-4.160786920417904 L 15.259166945041732,-4.160384620993771 L 15.259168625941763,-4.16038336384727 L 15.259228543157368,-4.160339314507638 L 15.26007586627229,-4.159804060191709 L 15.26035309708073,-4.159629447777429 L 15.260358784073757,-4.159625895953529 L 15.261253116011664,-4.159067381103955 L 15.261815845973718,-4.158709832373788 L 15.262116403448655,-4.158518863253192 L 15.262121893122522,-4.158515374810356 L 15.263462973528926,-4.157670694150292 L 15.263463354591243,-4.157670485043023 L 15.263781062156976,-4.157495720445579 L 15.263943213466828,-4.157406524029241 L 15.264050910170196,-4.157332043185298 L 15.26473405345893,-4.156890773383809 L 15.264840984424865,-4.156811723189066 L 15.264841251060824,-4.156811525880428 L 15.264957085462331,-4.156739321962691 L 15.268033726438194,-4.154821506484977 L 15.268036028953327,-4.154820070888715 L 15.268393833053441,-4.154597038322592 L 15.26847726584646,-4.154545030950886 L 15.268656622712486,-4.154394615727585 L 15.26947598312148,-4.153888279452849 L 15.270617285988678,-4.153183466793686 L 15.27061777422537,-4.153183133706097 L 15.272507098546427,-4.151894523242891 L 15.27292322415298,-4.151492438236979 L 15.272923760446096,-4.151492992616168 L 15.272925764111111,-4.151495069052828 L 15.272927479349471,-4.151496847047105 L 15.27293154617187,-4.151501074083036 L 15.272936217787109,-4.151505921515578 L 15.272939967337784,-4.151509813027435 L 15.272940039444299,-4.151509887185706 L 15.272952756369536,-4.151523083778276 L 15.273177067891023,-4.151755847320008 L 15.273178105327583,-4.151756924426596 L 15.274028455275506,-4.152639316399878 L 15.274041183954212,-4.152652524728805 L 15.275124513059644,-4.153776670666876 L 15.275307459111815,-4.153930838173742 L 15.275309824968893,-4.153932832151552 L 15.274985887467134,-4.154737200773098 L 15.274435004969193,-4.155925526633053 L 15.274042548059336,-4.156772106452648 L 15.273658615829723,-4.157817294229175 L 15.273401485014778,-4.158793980273323 L 15.27338756250236,-4.159505227516252 L 15.273845440751387,-4.160725112447054 L 15.275018863636937,-4.162203959400173 L 15.27547808466568,-4.162660601547739 L 15.276163287974978,-4.162548239583123 L 15.277145247614325,-4.161877680626349 L 15.281834089348349,-4.167405270365356 L 15.286049529024357,-4.172256005584558 L 15.288911518590758,-4.175529422459516 L 15.290838653994097,-4.177864878353178 L 15.295135761349648,-4.182970679707414 L 15.297604147769945,-4.185903560514115 z\" /></g></g></svg>"
      ],
      "text/plain": [
       "<shapely.geometry.multipolygon.MultiPolygon at 0x25d3a8bcb80>"
      ]
     },
     "execution_count": 431,
     "metadata": {},
     "output_type": "execute_result"
    }
   ],
   "source": [
    "shapes"
   ]
  },
  {
   "cell_type": "code",
   "execution_count": 432,
   "id": "6c47e7ae",
   "metadata": {},
   "outputs": [
    {
     "name": "stderr",
     "output_type": "stream",
     "text": [
      "C:\\Users\\Saif.Shabou\\anaconda3\\envs\\urbanshift_env\\lib\\site-packages\\rasterio\\features.py:445: ShapelyDeprecationWarning: Iteration over multi-part geometries is deprecated and will be removed in Shapely 2.0. Use the `geoms` property to access the constituent parts of a multi-part geometry.\n",
      "  all_bounds = [bounds(shape, transform=~dataset.transform) for shape in shapes]\n",
      "C:\\Users\\Saif.Shabou\\anaconda3\\envs\\urbanshift_env\\lib\\site-packages\\rasterio\\features.py:288: ShapelyDeprecationWarning: Iteration over multi-part geometries is deprecated and will be removed in Shapely 2.0. Use the `geoms` property to access the constituent parts of a multi-part geometry.\n",
      "  for index, item in enumerate(shapes):\n"
     ]
    }
   ],
   "source": [
    "# load esa world cover\n",
    "with rasterio.open(\"https://cities-cities4forests.s3.eu-west-3.amazonaws.com/data/land_use/esa_world_cover/v_0/\" +boundary_id_aoi+\"-ESA-world_cover-2020-built_up.tif\") as src:\n",
    "    out_image_lc, out_transform_lc = rasterio.mask.mask(src, shapes, crop=True, nodata=0)\n",
    "    out_meta_lc = src.meta\n",
    "\n",
    "# keep built-up areas\n",
    "out_image_lc[out_image_lc != 50] = 0\n",
    "out_image_lc[out_image_lc == 50] = 1"
   ]
  },
  {
   "cell_type": "code",
   "execution_count": 433,
   "id": "168f18cf",
   "metadata": {},
   "outputs": [
    {
     "data": {
      "text/plain": [
       "{'driver': 'GTiff',\n",
       " 'dtype': 'uint8',\n",
       " 'nodata': None,\n",
       " 'width': 491,\n",
       " 'height': 452,\n",
       " 'count': 1,\n",
       " 'crs': CRS.from_epsg(4326),\n",
       " 'transform': Affine(8.983152841195215e-05, 0.0, 15.253767737440654,\n",
       "        0.0, -8.983152841195215e-05, -4.151409336063407)}"
      ]
     },
     "execution_count": 433,
     "metadata": {},
     "output_type": "execute_result"
    }
   ],
   "source": [
    "out_meta_lc.update({\"driver\": \"GTiff\",\n",
    "                 \"height\": out_image_lc.shape[1],\n",
    "                 \"width\": out_image_lc.shape[2],\n",
    "                 \"transform\": out_transform_lc})\n",
    "out_meta_lc"
   ]
  },
  {
   "cell_type": "code",
   "execution_count": 434,
   "id": "453e15f9",
   "metadata": {},
   "outputs": [
    {
     "name": "stderr",
     "output_type": "stream",
     "text": [
      "C:\\Users\\Saif.Shabou\\anaconda3\\envs\\urbanshift_env\\lib\\site-packages\\rasterio\\features.py:445: ShapelyDeprecationWarning: Iteration over multi-part geometries is deprecated and will be removed in Shapely 2.0. Use the `geoms` property to access the constituent parts of a multi-part geometry.\n",
      "  all_bounds = [bounds(shape, transform=~dataset.transform) for shape in shapes]\n",
      "C:\\Users\\Saif.Shabou\\anaconda3\\envs\\urbanshift_env\\lib\\site-packages\\rasterio\\features.py:288: ShapelyDeprecationWarning: Iteration over multi-part geometries is deprecated and will be removed in Shapely 2.0. Use the `geoms` property to access the constituent parts of a multi-part geometry.\n",
      "  for index, item in enumerate(shapes):\n"
     ]
    }
   ],
   "source": [
    "# Tree cover\n",
    "with rasterio.open(\"https://cities-cities4forests.s3.eu-west-3.amazonaws.com/data/tree_cover/tree_mosaic_land/v_0/\" +boundary_id_aoi+\"-TML-tree_cover-2000.tif\") as src:\n",
    "    out_image_tml, out_transform_tml = rasterio.mask.mask(src, shapes, crop=True, nodata=0)\n",
    "    out_meta_tml = src.meta\n",
    "    \n",
    "    "
   ]
  },
  {
   "cell_type": "code",
   "execution_count": 435,
   "id": "6a9f7004",
   "metadata": {},
   "outputs": [],
   "source": [
    "with rasterio.open(\"./data/tml_masked.tif\", \"w\", **out_meta_tml) as dest:\n",
    "    dest.write(out_image_tml)"
   ]
  },
  {
   "cell_type": "code",
   "execution_count": 436,
   "id": "8b7aa9cf",
   "metadata": {},
   "outputs": [
    {
     "data": {
      "text/plain": [
       "{'driver': 'GTiff',\n",
       " 'dtype': 'float64',\n",
       " 'nodata': None,\n",
       " 'width': 491,\n",
       " 'height': 451,\n",
       " 'count': 1,\n",
       " 'crs': CRS.from_epsg(4326),\n",
       " 'transform': Affine(8.983152841195215e-05, 0.0, 15.253752850463123,\n",
       "        0.0, -8.983152841195215e-05, -4.1514742540299565)}"
      ]
     },
     "execution_count": 436,
     "metadata": {},
     "output_type": "execute_result"
    }
   ],
   "source": [
    "out_meta_tml.update({\"driver\": \"GTiff\",\n",
    "                 \"height\": out_image_tml.shape[1],\n",
    "                 \"width\": out_image_tml.shape[2],\n",
    "                 \"transform\": out_transform_tml})\n",
    "out_meta_tml"
   ]
  },
  {
   "cell_type": "code",
   "execution_count": 437,
   "id": "1dc5012e",
   "metadata": {},
   "outputs": [
    {
     "name": "stdout",
     "output_type": "stream",
     "text": [
      "1.0\n",
      "1.0022172949002217\n"
     ]
    }
   ],
   "source": [
    "# load and esample tree cover\n",
    "upscale_factor_width =  out_meta_lc['width']/out_meta_tml['width']\n",
    "print(upscale_factor_width)\n",
    "upscale_factor_height =  out_meta_lc['height']/out_meta_tml['height']\n",
    "print(upscale_factor_height)"
   ]
  },
  {
   "cell_type": "code",
   "execution_count": 438,
   "id": "0385f3ae",
   "metadata": {},
   "outputs": [],
   "source": [
    "# load and esample tree cover\n",
    "with rasterio.open(\"./data/tml_masked.tif\") as dataset:\n",
    "\n",
    "    # resample data to target shape\n",
    "    \n",
    "    tml_sampled = dataset.read(\n",
    "        \n",
    "        out_shape=(\n",
    "            dataset.count,\n",
    "            int(dataset.height * upscale_factor_height),\n",
    "            int(dataset.width * upscale_factor_width)\n",
    "        ),\n",
    "        \n",
    "        resampling=Resampling.bilinear\n",
    "    )\n",
    "    \n",
    "    \n",
    "\n",
    "    # scale image transform\n",
    "    transform = dataset.transform * dataset.transform.scale(\n",
    "        (dataset.width / data.shape[-1]),\n",
    "        (dataset.height / data.shape[-2])\n",
    "    )"
   ]
  },
  {
   "cell_type": "code",
   "execution_count": 439,
   "id": "01966230",
   "metadata": {},
   "outputs": [
    {
     "ename": "ValueError",
     "evalue": "operands could not be broadcast together with shapes (1,452,491) (1,3339,1961) ",
     "output_type": "error",
     "traceback": [
      "\u001b[1;31m---------------------------------------------------------------------------\u001b[0m",
      "\u001b[1;31mValueError\u001b[0m                                Traceback (most recent call last)",
      "Input \u001b[1;32mIn [439]\u001b[0m, in \u001b[0;36m<cell line: 2>\u001b[1;34m()\u001b[0m\n\u001b[0;32m      1\u001b[0m \u001b[38;5;66;03m# compute tree cover in built up\u001b[39;00m\n\u001b[1;32m----> 2\u001b[0m city_built_tml \u001b[38;5;241m=\u001b[39m \u001b[43mout_image_lc\u001b[49m\u001b[43m \u001b[49m\u001b[38;5;241;43m*\u001b[39;49m\u001b[43m \u001b[49m\u001b[43mtml_sampled\u001b[49m\n",
      "\u001b[1;31mValueError\u001b[0m: operands could not be broadcast together with shapes (1,452,491) (1,3339,1961) "
     ]
    }
   ],
   "source": [
    "# compute tree cover in built up\n",
    "city_built_tml = out_image_lc * tml_sampled\n",
    "# np.nanmean(city_built_tml,dtype=np.float64)"
   ]
  },
  {
   "cell_type": "code",
   "execution_count": 440,
   "id": "98ea0314",
   "metadata": {},
   "outputs": [
    {
     "data": {
      "text/plain": [
       "9.510003694071153e+30"
      ]
     },
     "execution_count": 440,
     "metadata": {},
     "output_type": "execute_result"
    }
   ],
   "source": [
    "test_1 = tml_sampled[tml_sampled!= float('inf')]\n",
    "test_1 = test_1[test_1!= float('-inf')]\n",
    "np.nanmean(test_1,dtype=np.float64)"
   ]
  },
  {
   "cell_type": "code",
   "execution_count": null,
   "id": "c41a6f60",
   "metadata": {},
   "outputs": [],
   "source": []
  },
  {
   "cell_type": "code",
   "execution_count": null,
   "id": "a38dd5e2",
   "metadata": {},
   "outputs": [],
   "source": []
  },
  {
   "cell_type": "code",
   "execution_count": null,
   "id": "f846508e",
   "metadata": {},
   "outputs": [],
   "source": []
  },
  {
   "cell_type": "code",
   "execution_count": 64,
   "id": "255f1d2e",
   "metadata": {},
   "outputs": [],
   "source": [
    "city_name = \"COG-Brazzaville-ADM4union\""
   ]
  },
  {
   "cell_type": "code",
   "execution_count": 65,
   "id": "640f99fa",
   "metadata": {},
   "outputs": [],
   "source": [
    "# load boundary\n",
    "city_boundary_path = \"https://cities-cities4forests.s3.eu-west-3.amazonaws.com/data/boundaries/v_0/boundary-\" +city_name+\".geojson\"\n",
    "city_boundary = gpd.read_file(city_boundary_path)"
   ]
  },
  {
   "cell_type": "code",
   "execution_count": 66,
   "id": "37103ee2",
   "metadata": {},
   "outputs": [],
   "source": [
    "# load boundary\n",
    "with fiona.open(\"https://cities-cities4forests.s3.eu-west-3.amazonaws.com/data/boundaries/v_0/boundary-\" +city_name+\".geojson\", \"r\") as shapefile:\n",
    "    shapes = [feature[\"geometry\"] for feature in shapefile]"
   ]
  },
  {
   "cell_type": "code",
   "execution_count": 67,
   "id": "811d87f4",
   "metadata": {},
   "outputs": [
    {
     "name": "stdout",
     "output_type": "stream",
     "text": [
      "[[ 0  0  0 ...  0  0  0]\n",
      " [ 0  0  0 ...  0  0  0]\n",
      " [ 0  0  0 ...  0  0  0]\n",
      " ...\n",
      " [ 0  0  0 ... 50 50  0]\n",
      " [ 0  0  0 ... 50 50  0]\n",
      " [ 0  0  0 ... 50 50 50]]\n"
     ]
    }
   ],
   "source": [
    "# ESA built up\n",
    "city_name = \"COG-Brazzaville-ADM4union\"\n",
    "city_lc_built = \"https://cities-cities4forests.s3.eu-west-3.amazonaws.com/data/land_use/esa_world_cover/v_0/\" +city_name+\"-ESA-world_cover-2020-built_up.tif\"\n",
    "\n",
    "city_lc_built = rasterio.open(city_lc_built)\n",
    "city_lc_built_data = city_lc_built.read(1)\n",
    "print(city_lc_built_data)"
   ]
  },
  {
   "cell_type": "code",
   "execution_count": 68,
   "id": "8e51c76a",
   "metadata": {},
   "outputs": [],
   "source": [
    "with rasterio.open(\"https://cities-cities4forests.s3.eu-west-3.amazonaws.com/data/land_use/esa_world_cover/v_0/\" +city_name+\"-ESA-world_cover-2020-built_up.tif\") as src:\n",
    "    out_image_lc, out_transform_lc = rasterio.mask.mask(src, shapes, crop=True)\n",
    "    out_meta_lc = src.meta\n",
    "\n",
    "out_image_lc[out_image_lc != 50] = 0\n",
    "out_image_lc[out_image_lc == 50] = 1\n"
   ]
  },
  {
   "cell_type": "code",
   "execution_count": null,
   "id": "87c9cdfe",
   "metadata": {},
   "outputs": [],
   "source": []
  },
  {
   "cell_type": "code",
   "execution_count": 5,
   "id": "9881f55a",
   "metadata": {},
   "outputs": [
    {
     "data": {
      "text/plain": [
       "array([[0, 0, 0, ..., 0, 0, 0],\n",
       "       [0, 0, 0, ..., 0, 0, 0],\n",
       "       [0, 0, 0, ..., 0, 0, 0],\n",
       "       ...,\n",
       "       [0, 0, 0, ..., 1, 1, 0],\n",
       "       [0, 0, 0, ..., 1, 1, 0],\n",
       "       [0, 0, 0, ..., 1, 1, 1]], dtype=uint8)"
      ]
     },
     "execution_count": 5,
     "metadata": {},
     "output_type": "execute_result"
    }
   ],
   "source": [
    "city_lc_built_data[city_lc_built_data == 50] = 1\n",
    "city_lc_built_data"
   ]
  },
  {
   "cell_type": "code",
   "execution_count": 69,
   "id": "a7e43545",
   "metadata": {},
   "outputs": [
    {
     "name": "stdout",
     "output_type": "stream",
     "text": [
      "[[ 0.  0.  0. ...  0.  0.  0.]\n",
      " [ 0.  0.  0. ...  0.  0.  0.]\n",
      " [ 0.  0.  0. ...  0.  0.  0.]\n",
      " ...\n",
      " [50. 80. 80. ...  0.  0.  0.]\n",
      " [30. 70. 80. ...  0.  0.  0.]\n",
      " [40. 50. 80. ...  0.  0.  0.]]\n"
     ]
    }
   ],
   "source": [
    "# Tree cover\n",
    "city_name = \"COG-Brazzaville-ADM4union\"\n",
    "city_tml_path= \"https://cities-cities4forests.s3.eu-west-3.amazonaws.com/data/tree_cover/tree_mosaic_land/v_0/\" +city_name+\"-TML-tree_cover-2000.tif\"\n",
    "\n",
    "city_tml = rasterio.open(city_tml_path)\n",
    "city_tml_data = city_tml.read(1)\n",
    "print(city_tml_data)"
   ]
  },
  {
   "cell_type": "code",
   "execution_count": 70,
   "id": "037c6286",
   "metadata": {},
   "outputs": [],
   "source": [
    "with rasterio.open(\"https://cities-cities4forests.s3.eu-west-3.amazonaws.com/data/tree_cover/tree_mosaic_land/v_0/\" +city_name+\"-TML-tree_cover-2000.tif\") as src:\n",
    "    out_image_tml, out_transform_tml = rasterio.mask.mask(src, shapes, crop=True)\n",
    "    out_meta_tml = src.meta"
   ]
  },
  {
   "cell_type": "code",
   "execution_count": 71,
   "id": "3aaf4bc2",
   "metadata": {},
   "outputs": [
    {
     "data": {
      "text/plain": [
       "array([[[0., 0., 0., ..., 0., 0., 0.],\n",
       "        [0., 0., 0., ..., 0., 0., 0.],\n",
       "        [0., 0., 0., ..., 0., 0., 0.],\n",
       "        ...,\n",
       "        [0., 0., 0., ..., 0., 0., 0.],\n",
       "        [0., 0., 0., ..., 0., 0., 0.],\n",
       "        [0., 0., 0., ..., 0., 0., 0.]]])"
      ]
     },
     "execution_count": 71,
     "metadata": {},
     "output_type": "execute_result"
    }
   ],
   "source": [
    "out_image_tml"
   ]
  },
  {
   "cell_type": "code",
   "execution_count": 7,
   "id": "e50b9504",
   "metadata": {},
   "outputs": [
    {
     "data": {
      "text/plain": [
       "array([[0., 0., 0., ..., 0., 0., 0.],\n",
       "       [0., 0., 0., ..., 0., 0., 0.],\n",
       "       [0., 0., 0., ..., 0., 0., 0.],\n",
       "       ...,\n",
       "       [0., 0., 0., ..., 0., 0., 0.],\n",
       "       [0., 0., 0., ..., 0., 0., 0.],\n",
       "       [0., 0., 0., ..., 0., 0., 0.]])"
      ]
     },
     "execution_count": 7,
     "metadata": {},
     "output_type": "execute_result"
    }
   ],
   "source": [
    "# tree cover in built up\n",
    "city_built_tml = city_lc_built_data * city_tml_data\n",
    "city_built_tml"
   ]
  },
  {
   "cell_type": "code",
   "execution_count": 72,
   "id": "2001f46f",
   "metadata": {},
   "outputs": [
    {
     "data": {
      "text/plain": [
       "0.8490400565369274"
      ]
     },
     "execution_count": 72,
     "metadata": {},
     "output_type": "execute_result"
    }
   ],
   "source": [
    "city_built_tml_crop = out_image_lc * out_image_tml\n",
    "np.nanmean(city_built_tml_crop,dtype=np.float64)"
   ]
  },
  {
   "cell_type": "code",
   "execution_count": 19,
   "id": "e4a039e6",
   "metadata": {},
   "outputs": [
    {
     "data": {
      "text/plain": [
       "1.308048389077753"
      ]
     },
     "execution_count": 19,
     "metadata": {},
     "output_type": "execute_result"
    }
   ],
   "source": [
    "np.nanmean(city_built_tml,dtype=np.float64)"
   ]
  },
  {
   "cell_type": "code",
   "execution_count": 11,
   "id": "4a2b926d",
   "metadata": {},
   "outputs": [
    {
     "ename": "ValueError",
     "evalue": "Specify affine transform for numpy arrays",
     "output_type": "error",
     "traceback": [
      "\u001b[1;31m---------------------------------------------------------------------------\u001b[0m",
      "\u001b[1;31mValueError\u001b[0m                                Traceback (most recent call last)",
      "Input \u001b[1;32mIn [11]\u001b[0m, in \u001b[0;36m<cell line: 2>\u001b[1;34m()\u001b[0m\n\u001b[0;32m      1\u001b[0m \u001b[38;5;66;03m# compute zonal stat\u001b[39;00m\n\u001b[1;32m----> 2\u001b[0m city_built_tml_stat \u001b[38;5;241m=\u001b[39m \u001b[43mzonal_stats\u001b[49m\u001b[43m(\u001b[49m\u001b[43mcity_boundary_path\u001b[49m\u001b[43m,\u001b[49m\u001b[43m \u001b[49m\n\u001b[0;32m      3\u001b[0m \u001b[43m                                  \u001b[49m\u001b[43mcity_built_tml\u001b[49m\u001b[43m,\u001b[49m\n\u001b[0;32m      4\u001b[0m \u001b[43m                                  \u001b[49m\u001b[43mstats\u001b[49m\u001b[38;5;241;43m=\u001b[39;49m\u001b[43m \u001b[49m\u001b[38;5;124;43m\"\u001b[39;49m\u001b[38;5;124;43mmean\u001b[39;49m\u001b[38;5;124;43m\"\u001b[39;49m\u001b[43m,\u001b[49m\n\u001b[0;32m      5\u001b[0m \u001b[43m                                 \u001b[49m\u001b[43mnodata\u001b[49m\u001b[38;5;241;43m=\u001b[39;49m\u001b[43mnp\u001b[49m\u001b[38;5;241;43m.\u001b[39;49m\u001b[43mnan\u001b[49m\u001b[43m)\u001b[49m\n",
      "File \u001b[1;32m~\\anaconda3\\envs\\urbanshift_env\\lib\\site-packages\\rasterstats\\main.py:31\u001b[0m, in \u001b[0;36mzonal_stats\u001b[1;34m(*args, **kwargs)\u001b[0m\n\u001b[0;32m     23\u001b[0m \u001b[38;5;28;01mdef\u001b[39;00m \u001b[38;5;21mzonal_stats\u001b[39m(\u001b[38;5;241m*\u001b[39margs, \u001b[38;5;241m*\u001b[39m\u001b[38;5;241m*\u001b[39mkwargs):\n\u001b[0;32m     24\u001b[0m     \u001b[38;5;124;03m\"\"\"The primary zonal statistics entry point.\u001b[39;00m\n\u001b[0;32m     25\u001b[0m \n\u001b[0;32m     26\u001b[0m \u001b[38;5;124;03m    All arguments are passed directly to ``gen_zonal_stats``.\u001b[39;00m\n\u001b[1;32m   (...)\u001b[0m\n\u001b[0;32m     29\u001b[0m \u001b[38;5;124;03m    The only difference is that ``zonal_stats`` will\u001b[39;00m\n\u001b[0;32m     30\u001b[0m \u001b[38;5;124;03m    return a list rather than a generator.\"\"\"\u001b[39;00m\n\u001b[1;32m---> 31\u001b[0m     \u001b[38;5;28;01mreturn\u001b[39;00m \u001b[38;5;28;43mlist\u001b[39;49m\u001b[43m(\u001b[49m\u001b[43mgen_zonal_stats\u001b[49m\u001b[43m(\u001b[49m\u001b[38;5;241;43m*\u001b[39;49m\u001b[43margs\u001b[49m\u001b[43m,\u001b[49m\u001b[43m \u001b[49m\u001b[38;5;241;43m*\u001b[39;49m\u001b[38;5;241;43m*\u001b[39;49m\u001b[43mkwargs\u001b[49m\u001b[43m)\u001b[49m\u001b[43m)\u001b[49m\n",
      "File \u001b[1;32m~\\anaconda3\\envs\\urbanshift_env\\lib\\site-packages\\rasterstats\\main.py:150\u001b[0m, in \u001b[0;36mgen_zonal_stats\u001b[1;34m(vectors, raster, layer, band, nodata, affine, stats, all_touched, categorical, category_map, add_stats, zone_func, raster_out, prefix, geojson_out, boundless, **kwargs)\u001b[0m\n\u001b[0;32m    147\u001b[0m     warnings\u001b[38;5;241m.\u001b[39mwarn(\u001b[38;5;124m\"\u001b[39m\u001b[38;5;124mUse `band` to specify band number\u001b[39m\u001b[38;5;124m\"\u001b[39m, \u001b[38;5;167;01mDeprecationWarning\u001b[39;00m)\n\u001b[0;32m    148\u001b[0m     band \u001b[38;5;241m=\u001b[39m band_num\n\u001b[1;32m--> 150\u001b[0m \u001b[38;5;28;01mwith\u001b[39;00m \u001b[43mRaster\u001b[49m\u001b[43m(\u001b[49m\u001b[43mraster\u001b[49m\u001b[43m,\u001b[49m\u001b[43m \u001b[49m\u001b[43maffine\u001b[49m\u001b[43m,\u001b[49m\u001b[43m \u001b[49m\u001b[43mnodata\u001b[49m\u001b[43m,\u001b[49m\u001b[43m \u001b[49m\u001b[43mband\u001b[49m\u001b[43m)\u001b[49m \u001b[38;5;28;01mas\u001b[39;00m rast:\n\u001b[0;32m    151\u001b[0m     features_iter \u001b[38;5;241m=\u001b[39m read_features(vectors, layer)\n\u001b[0;32m    152\u001b[0m     \u001b[38;5;28;01mfor\u001b[39;00m _, feat \u001b[38;5;129;01min\u001b[39;00m \u001b[38;5;28menumerate\u001b[39m(features_iter):\n",
      "File \u001b[1;32m~\\anaconda3\\envs\\urbanshift_env\\lib\\site-packages\\rasterstats\\io.py:248\u001b[0m, in \u001b[0;36mRaster.__init__\u001b[1;34m(self, raster, affine, nodata, band)\u001b[0m\n\u001b[0;32m    246\u001b[0m \u001b[38;5;28;01mif\u001b[39;00m \u001b[38;5;28misinstance\u001b[39m(raster, np\u001b[38;5;241m.\u001b[39mndarray):\n\u001b[0;32m    247\u001b[0m     \u001b[38;5;28;01mif\u001b[39;00m affine \u001b[38;5;129;01mis\u001b[39;00m \u001b[38;5;28;01mNone\u001b[39;00m:\n\u001b[1;32m--> 248\u001b[0m         \u001b[38;5;28;01mraise\u001b[39;00m \u001b[38;5;167;01mValueError\u001b[39;00m(\u001b[38;5;124m\"\u001b[39m\u001b[38;5;124mSpecify affine transform for numpy arrays\u001b[39m\u001b[38;5;124m\"\u001b[39m)\n\u001b[0;32m    249\u001b[0m     \u001b[38;5;28mself\u001b[39m\u001b[38;5;241m.\u001b[39marray \u001b[38;5;241m=\u001b[39m raster\n\u001b[0;32m    250\u001b[0m     \u001b[38;5;28mself\u001b[39m\u001b[38;5;241m.\u001b[39maffine \u001b[38;5;241m=\u001b[39m affine\n",
      "\u001b[1;31mValueError\u001b[0m: Specify affine transform for numpy arrays"
     ]
    }
   ],
   "source": [
    "# compute zonal stat\n",
    "city_built_tml_stat = zonal_stats(city_boundary_path, \n",
    "                                  city_built_tml,\n",
    "                                  stats= \"mean\",\n",
    "                                 nodata=np.nan)"
   ]
  },
  {
   "cell_type": "code",
   "execution_count": 9,
   "id": "1e5134f4",
   "metadata": {},
   "outputs": [
    {
     "data": {
      "text/plain": [
       "[{'mean': 17.800617211862633}]"
      ]
     },
     "execution_count": 9,
     "metadata": {},
     "output_type": "execute_result"
    }
   ],
   "source": [
    "city_built_tml_stat"
   ]
  },
  {
   "cell_type": "code",
   "execution_count": null,
   "id": "7261f729",
   "metadata": {},
   "outputs": [],
   "source": []
  }
 ],
 "metadata": {
  "kernelspec": {
   "display_name": "Python 3 (ipykernel)",
   "language": "python",
   "name": "python3"
  },
  "language_info": {
   "codemirror_mode": {
    "name": "ipython",
    "version": 3
   },
   "file_extension": ".py",
   "mimetype": "text/x-python",
   "name": "python",
   "nbconvert_exporter": "python",
   "pygments_lexer": "ipython3",
   "version": "3.10.5"
  }
 },
 "nbformat": 4,
 "nbformat_minor": 5
}
