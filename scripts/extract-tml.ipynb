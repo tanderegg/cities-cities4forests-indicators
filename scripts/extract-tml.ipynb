{
 "cells": [
  {
   "cell_type": "code",
   "execution_count": 2,
   "id": "3f4715cc-5ef4-4017-9e18-a91716a1d0e0",
   "metadata": {},
   "outputs": [
    {
     "data": {
      "text/html": [
       "<p>To authorize access needed by Earth Engine, open the following\n",
       "        URL in a web browser and follow the instructions:</p>\n",
       "        <p><a href=https://code.earthengine.google.com/client-auth?scopes=https%3A//www.googleapis.com/auth/earthengine%20https%3A//www.googleapis.com/auth/devstorage.full_control&request_id=aSmLpgRafow87kCxNT5mbFYy-SO9k76ruY89CJyJCqo&tc=5IBs1ZVatCWlRJSnmkLaDS6GQY2yozldgkdeMYR-jw4&cc=mmbSKf7s3mtJ9QfWGsmi1tzkJZO3nGQ-b42BoFQQhbM>https://code.earthengine.google.com/client-auth?scopes=https%3A//www.googleapis.com/auth/earthengine%20https%3A//www.googleapis.com/auth/devstorage.full_control&request_id=aSmLpgRafow87kCxNT5mbFYy-SO9k76ruY89CJyJCqo&tc=5IBs1ZVatCWlRJSnmkLaDS6GQY2yozldgkdeMYR-jw4&cc=mmbSKf7s3mtJ9QfWGsmi1tzkJZO3nGQ-b42BoFQQhbM</a></p>\n",
       "        <p>The authorization workflow will generate a code, which you should paste in the box below.</p>\n",
       "        "
      ],
      "text/plain": [
       "<IPython.core.display.HTML object>"
      ]
     },
     "metadata": {},
     "output_type": "display_data"
    },
    {
     "name": "stdin",
     "output_type": "stream",
     "text": [
      "Enter verification code:  4/1AdQt8qi9CWcrbuZAfEi-5Kn50gh5ZTeoZjCmeI3wBmHyCFEZ9zVjPoRhVsA\n"
     ]
    },
    {
     "name": "stdout",
     "output_type": "stream",
     "text": [
      "\n",
      "Successfully saved authorization token.\n"
     ]
    }
   ],
   "source": [
    "import ee\n",
    "ee.Authenticate()"
   ]
  },
  {
   "cell_type": "code",
   "execution_count": 3,
   "id": "42aac093-e263-47b9-a88b-a4998b5c7dda",
   "metadata": {},
   "outputs": [],
   "source": [
    "ee.Initialize()"
   ]
  },
  {
   "cell_type": "code",
   "execution_count": 4,
   "id": "4f1bc907-8871-46ee-8fce-f9befdd48f7b",
   "metadata": {},
   "outputs": [],
   "source": [
    "import geemap\n",
    "import ipyleaflet\n",
    "import numpy as np\n",
    "import requests\n",
    "import os\n",
    "import pandas as pd\n",
    "import rasterio\n",
    "import boto3\n",
    "import geopandas as gpd\n",
    "import glob"
   ]
  },
  {
   "cell_type": "markdown",
   "id": "0b7d4e26-7d56-4da5-a1df-7bca2f46cec6",
   "metadata": {},
   "source": [
    "# Load data"
   ]
  },
  {
   "cell_type": "code",
   "execution_count": 5,
   "id": "b5133fa3-c5fa-4d3a-bdcb-d1adbc468110",
   "metadata": {},
   "outputs": [],
   "source": [
    "# read Tree Mosaic Land\n",
    "tml = ee.ImageCollection('projects/wri-datalab/TML')\n",
    "tml_tree_cover = tml.reduce(ee.Reducer.mean()).rename('b1')"
   ]
  },
  {
   "cell_type": "code",
   "execution_count": 6,
   "id": "f425e4cb-e18a-4c86-92ba-dd4cb9c8321d",
   "metadata": {},
   "outputs": [
    {
     "data": {
      "text/html": [
       "<div>\n",
       "<style scoped>\n",
       "    .dataframe tbody tr th:only-of-type {\n",
       "        vertical-align: middle;\n",
       "    }\n",
       "\n",
       "    .dataframe tbody tr th {\n",
       "        vertical-align: top;\n",
       "    }\n",
       "\n",
       "    .dataframe thead th {\n",
       "        text-align: right;\n",
       "    }\n",
       "</style>\n",
       "<table border=\"1\" class=\"dataframe\">\n",
       "  <thead>\n",
       "    <tr style=\"text-align: right;\">\n",
       "      <th></th>\n",
       "      <th>city_name</th>\n",
       "      <th>geo_name</th>\n",
       "      <th>aoi_boundary_name</th>\n",
       "      <th>units_boundary_name</th>\n",
       "      <th>city_boundary_name</th>\n",
       "      <th>country_code</th>\n",
       "      <th>geo_level</th>\n",
       "    </tr>\n",
       "  </thead>\n",
       "  <tbody>\n",
       "    <tr>\n",
       "      <th>0</th>\n",
       "      <td>Salvador</td>\n",
       "      <td>BRA-Salvador</td>\n",
       "      <td>ADM4union</td>\n",
       "      <td>ADM4</td>\n",
       "      <td>BRA-Salvador-ADM4</td>\n",
       "      <td>BRA</td>\n",
       "      <td>ADM4</td>\n",
       "    </tr>\n",
       "    <tr>\n",
       "      <th>1</th>\n",
       "      <td>Bukavu</td>\n",
       "      <td>COD-Bukavu</td>\n",
       "      <td>ADM3union</td>\n",
       "      <td>ADM3</td>\n",
       "      <td>COD-Bukavu-ADM2</td>\n",
       "      <td>COD</td>\n",
       "      <td>ADM2</td>\n",
       "    </tr>\n",
       "    <tr>\n",
       "      <th>2</th>\n",
       "      <td>Uvira</td>\n",
       "      <td>COD-Uvira</td>\n",
       "      <td>ADM3union</td>\n",
       "      <td>ADM3</td>\n",
       "      <td>COD-Uvira-ADM3</td>\n",
       "      <td>COD</td>\n",
       "      <td>ADM3</td>\n",
       "    </tr>\n",
       "    <tr>\n",
       "      <th>3</th>\n",
       "      <td>Brazzaville</td>\n",
       "      <td>COG-Brazzaville</td>\n",
       "      <td>ADM4union</td>\n",
       "      <td>ADM4</td>\n",
       "      <td>COG-Brazzaville-ADM4</td>\n",
       "      <td>COG</td>\n",
       "      <td>ADM4</td>\n",
       "    </tr>\n",
       "    <tr>\n",
       "      <th>4</th>\n",
       "      <td>Barranquilla</td>\n",
       "      <td>COL-Barranquilla</td>\n",
       "      <td>ADM4union</td>\n",
       "      <td>ADM4</td>\n",
       "      <td>COL-Barranquilla-ADM4</td>\n",
       "      <td>COL</td>\n",
       "      <td>ADM4</td>\n",
       "    </tr>\n",
       "  </tbody>\n",
       "</table>\n",
       "</div>"
      ],
      "text/plain": [
       "      city_name          geo_name aoi_boundary_name units_boundary_name  \\\n",
       "0      Salvador      BRA-Salvador         ADM4union                ADM4   \n",
       "1        Bukavu        COD-Bukavu         ADM3union                ADM3   \n",
       "2         Uvira         COD-Uvira         ADM3union                ADM3   \n",
       "3   Brazzaville   COG-Brazzaville         ADM4union                ADM4   \n",
       "4  Barranquilla  COL-Barranquilla         ADM4union                ADM4   \n",
       "\n",
       "      city_boundary_name country_code geo_level  \n",
       "0      BRA-Salvador-ADM4          BRA      ADM4  \n",
       "1        COD-Bukavu-ADM2          COD      ADM2  \n",
       "2         COD-Uvira-ADM3          COD      ADM3  \n",
       "3   COG-Brazzaville-ADM4          COG      ADM4  \n",
       "4  COL-Barranquilla-ADM4          COL      ADM4  "
      ]
     },
     "execution_count": 6,
     "metadata": {},
     "output_type": "execute_result"
    }
   ],
   "source": [
    "# get list of cities\n",
    "boundary_georef = pd.read_csv('https://cities-cities4forests.s3.eu-west-3.amazonaws.com/data/boundaries/v_0/geo_ref.csv')\n",
    "boundary_georef.head()"
   ]
  },
  {
   "cell_type": "code",
   "execution_count": 7,
   "id": "f1ec509f-5dc7-40fe-aad9-76e73ce18399",
   "metadata": {},
   "outputs": [
    {
     "data": {
      "text/html": [
       "<div>\n",
       "<style scoped>\n",
       "    .dataframe tbody tr th:only-of-type {\n",
       "        vertical-align: middle;\n",
       "    }\n",
       "\n",
       "    .dataframe tbody tr th {\n",
       "        vertical-align: top;\n",
       "    }\n",
       "\n",
       "    .dataframe thead th {\n",
       "        text-align: right;\n",
       "    }\n",
       "</style>\n",
       "<table border=\"1\" class=\"dataframe\">\n",
       "  <thead>\n",
       "    <tr style=\"text-align: right;\">\n",
       "      <th></th>\n",
       "      <th>city_name</th>\n",
       "      <th>geo_name</th>\n",
       "      <th>aoi_boundary_name</th>\n",
       "      <th>units_boundary_name</th>\n",
       "      <th>city_boundary_name</th>\n",
       "      <th>country_code</th>\n",
       "      <th>geo_level</th>\n",
       "    </tr>\n",
       "  </thead>\n",
       "  <tbody>\n",
       "    <tr>\n",
       "      <th>0</th>\n",
       "      <td>Bukavu</td>\n",
       "      <td>COD-Bukavu</td>\n",
       "      <td>ADM3union</td>\n",
       "      <td>ADM3</td>\n",
       "      <td>COD-Bukavu-ADM2</td>\n",
       "      <td>COD</td>\n",
       "      <td>ADM2</td>\n",
       "    </tr>\n",
       "    <tr>\n",
       "      <th>1</th>\n",
       "      <td>Uvira</td>\n",
       "      <td>COD-Uvira</td>\n",
       "      <td>ADM3union</td>\n",
       "      <td>ADM3</td>\n",
       "      <td>COD-Uvira-ADM3</td>\n",
       "      <td>COD</td>\n",
       "      <td>ADM3</td>\n",
       "    </tr>\n",
       "    <tr>\n",
       "      <th>2</th>\n",
       "      <td>Brazzaville</td>\n",
       "      <td>COG-Brazzaville</td>\n",
       "      <td>ADM4union</td>\n",
       "      <td>ADM4</td>\n",
       "      <td>COG-Brazzaville-ADM4</td>\n",
       "      <td>COG</td>\n",
       "      <td>ADM4</td>\n",
       "    </tr>\n",
       "    <tr>\n",
       "      <th>3</th>\n",
       "      <td>Barranquilla</td>\n",
       "      <td>COL-Barranquilla</td>\n",
       "      <td>ADM4union</td>\n",
       "      <td>ADM4</td>\n",
       "      <td>COL-Barranquilla-ADM4</td>\n",
       "      <td>COL</td>\n",
       "      <td>ADM4</td>\n",
       "    </tr>\n",
       "    <tr>\n",
       "      <th>4</th>\n",
       "      <td>Addis_Ababa</td>\n",
       "      <td>ETH-Addis_Ababa</td>\n",
       "      <td>ADM4union</td>\n",
       "      <td>ADM4</td>\n",
       "      <td>ETH-Addis_Ababa-ADM4</td>\n",
       "      <td>ETH</td>\n",
       "      <td>ADM4</td>\n",
       "    </tr>\n",
       "    <tr>\n",
       "      <th>5</th>\n",
       "      <td>Dire_Dawa</td>\n",
       "      <td>ETH-Dire_Dawa</td>\n",
       "      <td>ADM3union</td>\n",
       "      <td>ADM3</td>\n",
       "      <td>ETH-Dire_Dawa-ADM3</td>\n",
       "      <td>ETH</td>\n",
       "      <td>ADM3</td>\n",
       "    </tr>\n",
       "    <tr>\n",
       "      <th>6</th>\n",
       "      <td>Nairobi</td>\n",
       "      <td>KEN-Nairobi</td>\n",
       "      <td>ADM3union</td>\n",
       "      <td>ADM3</td>\n",
       "      <td>KEN-Nairobi-ADM3</td>\n",
       "      <td>KEN</td>\n",
       "      <td>ADM3</td>\n",
       "    </tr>\n",
       "    <tr>\n",
       "      <th>7</th>\n",
       "      <td>Antananarivo</td>\n",
       "      <td>MDG-Antananarivo</td>\n",
       "      <td>ADM4union</td>\n",
       "      <td>ADM4</td>\n",
       "      <td>MDG-Antananarivo-ADM4</td>\n",
       "      <td>MDG</td>\n",
       "      <td>ADM4</td>\n",
       "    </tr>\n",
       "    <tr>\n",
       "      <th>8</th>\n",
       "      <td>Mexico_City</td>\n",
       "      <td>MEX-Mexico_City</td>\n",
       "      <td>ADM2union</td>\n",
       "      <td>ADM2</td>\n",
       "      <td>MEX-Mexico_City-ADM2</td>\n",
       "      <td>MEX</td>\n",
       "      <td>ADM2</td>\n",
       "    </tr>\n",
       "  </tbody>\n",
       "</table>\n",
       "</div>"
      ],
      "text/plain": [
       "      city_name          geo_name aoi_boundary_name units_boundary_name  \\\n",
       "0        Bukavu        COD-Bukavu         ADM3union                ADM3   \n",
       "1         Uvira         COD-Uvira         ADM3union                ADM3   \n",
       "2   Brazzaville   COG-Brazzaville         ADM4union                ADM4   \n",
       "3  Barranquilla  COL-Barranquilla         ADM4union                ADM4   \n",
       "4   Addis_Ababa   ETH-Addis_Ababa         ADM4union                ADM4   \n",
       "5     Dire_Dawa     ETH-Dire_Dawa         ADM3union                ADM3   \n",
       "6       Nairobi       KEN-Nairobi         ADM3union                ADM3   \n",
       "7  Antananarivo  MDG-Antananarivo         ADM4union                ADM4   \n",
       "8   Mexico_City   MEX-Mexico_City         ADM2union                ADM2   \n",
       "\n",
       "      city_boundary_name country_code geo_level  \n",
       "0        COD-Bukavu-ADM2          COD      ADM2  \n",
       "1         COD-Uvira-ADM3          COD      ADM3  \n",
       "2   COG-Brazzaville-ADM4          COG      ADM4  \n",
       "3  COL-Barranquilla-ADM4          COL      ADM4  \n",
       "4   ETH-Addis_Ababa-ADM4          ETH      ADM4  \n",
       "5     ETH-Dire_Dawa-ADM3          ETH      ADM3  \n",
       "6       KEN-Nairobi-ADM3          KEN      ADM3  \n",
       "7  MDG-Antananarivo-ADM4          MDG      ADM4  \n",
       "8   MEX-Mexico_City-ADM2          MEX      ADM2  "
      ]
     },
     "execution_count": 7,
     "metadata": {},
     "output_type": "execute_result"
    }
   ],
   "source": [
    "# remove cities without tree cover data availability\n",
    "tml_not_available_cities = ['BRA-Salvador','MEX-Monterrey']\n",
    "boundary_georef = boundary_georef[~boundary_georef['geo_name'].isin(tml_not_available_cities)].reset_index(drop=True)\n",
    "boundary_georef"
   ]
  },
  {
   "cell_type": "markdown",
   "id": "9071a191-dab3-476a-b2ff-e2e2f91f72b3",
   "metadata": {},
   "source": [
    "# Extract TML by city"
   ]
  },
  {
   "cell_type": "code",
   "execution_count": 9,
   "id": "324911c6-8ee9-4155-8be1-4f1c7201bc9d",
   "metadata": {},
   "outputs": [
    {
     "name": "stdout",
     "output_type": "stream",
     "text": [
      "0\n",
      "COD-Bukavu-ADM3union\n",
      "1\n",
      "COD-Uvira-ADM3union\n",
      "2\n",
      "COG-Brazzaville-ADM4union\n",
      "3\n",
      "COL-Barranquilla-ADM4union\n",
      "4\n",
      "ETH-Addis_Ababa-ADM4union\n",
      "5\n",
      "ETH-Dire_Dawa-ADM3union\n",
      "6\n",
      "KEN-Nairobi-ADM3union\n",
      "7\n",
      "MDG-Antananarivo-ADM4union\n",
      "8\n",
      "MEX-Mexico_City-ADM2union\n"
     ]
    }
   ],
   "source": [
    "for i in range(0,len(boundary_georef)):\n",
    "    print(i)\n",
    "    boundary_id = boundary_georef.loc[i, 'geo_name'] + '-' + boundary_georef.loc[i, 'aoi_boundary_name']\n",
    "    print(boundary_id)\n",
    "    \n",
    "    # read boundaries\n",
    "    boundary_path = 'https://cities-cities4forests.s3.eu-west-3.amazonaws.com/data/boundaries/v_0/boundary-'+boundary_id+'.geojson'\n",
    "    boundary_geo = requests.get(boundary_path).json()\n",
    "    boundary_geo_ee = geemap.geojson_to_ee(boundary_geo)\n",
    "    \n",
    "    # Download ee.Image for TML as GeoTIFF\n",
    "    geemap.ee_export_image_to_drive(\n",
    "        tml_tree_cover, \n",
    "        folder='data',\n",
    "        # # 10m resolution\n",
    "        # description = boundary_id + '-TML-TreeCover',\n",
    "        # scale=10, \n",
    "         # 50m resolution\n",
    "        description = boundary_id + '-TML-TreeCover_50m',\n",
    "        scale=50, \n",
    "        region=boundary_geo_ee.geometry(),\n",
    "        maxPixels = 5000000000\n",
    "    )"
   ]
  },
  {
   "cell_type": "markdown",
   "id": "4d86f46e-4fad-44c7-b191-43e8d0ae6fb4",
   "metadata": {},
   "source": [
    "# Upload in aws\n",
    "\n",
    "Since we can't download directly the rasters locally due to their size, the rasters are stored in a google-drive folder and then downloaded locally in order to push them back to s3 bucket."
   ]
  },
  {
   "cell_type": "code",
   "execution_count": 10,
   "id": "80a8a6d1-47d1-428d-9386-18ec1dcb3c12",
   "metadata": {},
   "outputs": [],
   "source": [
    "# connect to s3\n",
    "aws_credentials = pd.read_csv('C:\\\\Users\\\\Saif.Shabou\\\\OneDrive - World Resources Institute\\\\Documents\\\\aws\\\\credentials.csv')\n",
    "aws_key = aws_credentials.iloc[0]['Access key ID']\n",
    "aws_secret = aws_credentials.iloc[0]['Secret access key']\n",
    "\n",
    "s3 = boto3.resource(\n",
    "    service_name='s3',\n",
    "    aws_access_key_id=aws_key,\n",
    "    aws_secret_access_key=aws_secret\n",
    ")\n",
    "\n",
    "# specify bucket name\n",
    "bucket_name = 'cities-cities4forests' "
   ]
  },
  {
   "cell_type": "code",
   "execution_count": 11,
   "id": "81e5ec65-c926-4913-9912-056e371c83f5",
   "metadata": {},
   "outputs": [],
   "source": [
    "out_dir = os.getcwd()"
   ]
  },
  {
   "cell_type": "code",
   "execution_count": 14,
   "id": "242653b9-d2bc-4918-bc8d-16f6a7f4e72f",
   "metadata": {},
   "outputs": [
    {
     "name": "stdout",
     "output_type": "stream",
     "text": [
      "\n",
      " boundary_id: COD-Bukavu-ADM3union\n",
      "\n",
      " boundary_id: COD-Uvira-ADM3union\n",
      "\n",
      " boundary_id: COG-Brazzaville-ADM4union\n",
      "\n",
      " boundary_id: COL-Barranquilla-ADM4union\n",
      "\n",
      " boundary_id: ETH-Addis_Ababa-ADM4union\n",
      "\n",
      " boundary_id: ETH-Dire_Dawa-ADM3union\n",
      "\n",
      " boundary_id: KEN-Nairobi-ADM3union\n",
      "\n",
      " boundary_id: MDG-Antananarivo-ADM4union\n",
      "\n",
      " boundary_id: MEX-Mexico_City-ADM2union\n"
     ]
    }
   ],
   "source": [
    "for i in range(0, len(boundary_georef)):\n",
    "    boundary_id = boundary_georef.loc[i, 'geo_name']+'-'+boundary_georef.loc[i, 'aoi_boundary_name']\n",
    "    geo_name = boundary_georef.loc[i, 'geo_name']\n",
    "    print(\"\\n boundary_id: \"+boundary_id)\n",
    "\n",
    "    # read local raster\n",
    "    city_file = 'data\\\\' + boundary_id +'-TML-TreeCover_50m.tif'\n",
    "    raster_path = os.path.join(out_dir, city_file)\n",
    "    \n",
    "    # upload in s3\n",
    "    s3.meta.client.upload_file(raster_path, \n",
    "                               bucket_name, \n",
    "                               'data/tree_cover/tree_mosaic_land/v_0/'+ boundary_id + '-TML-tree_cover-2020_50m.tif',\n",
    "                               ExtraArgs={'ACL':'public-read'})"
   ]
  },
  {
   "cell_type": "markdown",
   "id": "65055696-91a4-45b6-953d-33770c1e87dd",
   "metadata": {},
   "source": [
    "# Visualize"
   ]
  },
  {
   "cell_type": "code",
   "execution_count": 41,
   "id": "a674270a-e4e3-41c1-a630-9cfec22f09fb",
   "metadata": {},
   "outputs": [
    {
     "data": {
      "application/vnd.jupyter.widget-view+json": {
       "model_id": "5e3ce3c1bbb1464da075035ebea590a1",
       "version_major": 2,
       "version_minor": 0
      },
      "text/plain": [
       "Map(center=[20, 0], controls=(WidgetControl(options=['position', 'transparent_bg'], widget=HBox(children=(Togg…"
      ]
     },
     "metadata": {},
     "output_type": "display_data"
    }
   ],
   "source": [
    "## create map\n",
    "Map = geemap.Map(height=\"350px\")\n",
    "Map"
   ]
  },
  {
   "cell_type": "code",
   "execution_count": 85,
   "id": "d3c8292d-d060-4325-83b2-83e91e66a7aa",
   "metadata": {},
   "outputs": [
    {
     "name": "stdout",
     "output_type": "stream",
     "text": [
      "MEX-Mexico_City-ADM2union\n"
     ]
    }
   ],
   "source": [
    "i = 10\n",
    "boundary_id = geo_ref.loc[i, 'geo_name'] + '-' + geo_ref.loc[i, 'aoi_boundary_name']\n",
    "print(boundary_id)"
   ]
  },
  {
   "cell_type": "code",
   "execution_count": 86,
   "id": "53a3be4b-96da-4115-9d31-d87b15d8c565",
   "metadata": {},
   "outputs": [],
   "source": [
    "# read boundaries\n",
    "boundary_path = 'https://cities-cities4forests.s3.eu-west-3.amazonaws.com/data/boundaries/v_0/boundary-'+boundary_id+'.geojson'\n",
    "boundary_geo = requests.get(boundary_path).json()\n",
    "boundary_geo_ee = geemap.geojson_to_ee(boundary_geo)"
   ]
  },
  {
   "cell_type": "code",
   "execution_count": 87,
   "id": "3f0dcad4-8a9e-43b7-820a-3e6da4c31bbc",
   "metadata": {},
   "outputs": [],
   "source": [
    "## add basemap and center on area of interest\n",
    "Map.add_basemap('HYBRID')\n",
    "Map.centerObject(boundary_geo_ee, zoom=12)"
   ]
  },
  {
   "cell_type": "code",
   "execution_count": 88,
   "id": "efa859a2-8f4c-4e88-9ed0-6df327af5118",
   "metadata": {},
   "outputs": [],
   "source": [
    "Map.addLayer(boundary_geo_ee, {'color': 'FF0000'}, 'City boundary')"
   ]
  },
  {
   "cell_type": "code",
   "execution_count": 44,
   "id": "7a7fab7a-3b58-4d0f-99ed-bc3522b432cd",
   "metadata": {},
   "outputs": [],
   "source": [
    "Map.addLayer(tml_tree_cover,\n",
    "             {'min':0, 'max':0.5, 'palette':['white','#006400']},\n",
    "             'Tree Cover 2020 (WRI Trees in Mosaic Landscapes)',True,1)"
   ]
  },
  {
   "cell_type": "code",
   "execution_count": null,
   "id": "f400f46e-f36d-458f-8fa7-0033eff3d56a",
   "metadata": {},
   "outputs": [],
   "source": []
  }
 ],
 "metadata": {
  "kernelspec": {
   "display_name": "Python 3 (ipykernel)",
   "language": "python",
   "name": "python3"
  },
  "language_info": {
   "codemirror_mode": {
    "name": "ipython",
    "version": 3
   },
   "file_extension": ".py",
   "mimetype": "text/x-python",
   "name": "python",
   "nbconvert_exporter": "python",
   "pygments_lexer": "ipython3",
   "version": "3.10.5"
  }
 },
 "nbformat": 4,
 "nbformat_minor": 5
}
