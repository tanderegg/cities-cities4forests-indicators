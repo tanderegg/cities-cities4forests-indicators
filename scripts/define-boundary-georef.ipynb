{
 "cells": [
  {
   "cell_type": "code",
   "execution_count": 31,
   "id": "428e60e0-d62b-45cd-92de-b4b1e3cc30ad",
   "metadata": {},
   "outputs": [],
   "source": [
    "import os\n",
    "import pandas as pd\n",
    "import boto3"
   ]
  },
  {
   "cell_type": "markdown",
   "id": "4616db33-ed25-416e-a08c-ad5ab99cdf45",
   "metadata": {},
   "source": [
    "# Fill table with boundaries info"
   ]
  },
  {
   "cell_type": "code",
   "execution_count": 32,
   "id": "93fe0276-3aa1-485b-8b1c-5d6fe1c07dd8",
   "metadata": {},
   "outputs": [
    {
     "name": "stdout",
     "output_type": "stream",
     "text": [
      "Empty DataFrame\n",
      "Columns: [city_name, geo_name, aoi_boundary_name, units_boundary_name, city_boundary_name, country_code, geo_level]\n",
      "Index: []\n"
     ]
    }
   ],
   "source": [
    "# create an Empty pandas DataFrame with column names\n",
    "boundary_georef = pd.DataFrame(columns = ['city_name', 'geo_name', 'aoi_boundary_name','units_boundary_name','city_boundary_name',\n",
    "                                                 'country_code','geo_level'])\n",
    "print(boundary_georef)"
   ]
  },
  {
   "cell_type": "code",
   "execution_count": 33,
   "id": "4dc3a846-586d-4ffd-b20d-6fdbfba1e932",
   "metadata": {},
   "outputs": [
    {
     "name": "stderr",
     "output_type": "stream",
     "text": [
      "C:\\Users\\Saif.Shabou\\AppData\\Local\\Temp\\ipykernel_3352\\2362328220.py:2: FutureWarning: The frame.append method is deprecated and will be removed from pandas in a future version. Use pandas.concat instead.\n",
      "  boundary_georef = boundary_georef.append({'city_name' : 'Salvador',\n"
     ]
    }
   ],
   "source": [
    "# BRA-Salvador\n",
    "boundary_georef = boundary_georef.append({'city_name' : 'Salvador', \n",
    "                                          'country_code' : 'BRA',\n",
    "                                         'geo_level' : 'ADM4'},\n",
    "                                          ignore_index = True)"
   ]
  },
  {
   "cell_type": "code",
   "execution_count": 34,
   "id": "46caa557-a015-4317-b176-219030d90622",
   "metadata": {},
   "outputs": [
    {
     "name": "stderr",
     "output_type": "stream",
     "text": [
      "C:\\Users\\Saif.Shabou\\AppData\\Local\\Temp\\ipykernel_3352\\3445624796.py:2: FutureWarning: The frame.append method is deprecated and will be removed from pandas in a future version. Use pandas.concat instead.\n",
      "  boundary_georef = boundary_georef.append({'city_name' : 'Bukavu',\n"
     ]
    }
   ],
   "source": [
    "# COD-Bukavu\n",
    "boundary_georef = boundary_georef.append({'city_name' : 'Bukavu', \n",
    "                                          'country_code' : 'COD',\n",
    "                                         'geo_level' : 'ADM3'},\n",
    "                                          ignore_index = True)"
   ]
  },
  {
   "cell_type": "code",
   "execution_count": 35,
   "id": "c3f4be09-c2fe-455a-8363-3a66d8915ad5",
   "metadata": {},
   "outputs": [
    {
     "name": "stderr",
     "output_type": "stream",
     "text": [
      "C:\\Users\\Saif.Shabou\\AppData\\Local\\Temp\\ipykernel_3352\\716728086.py:2: FutureWarning: The frame.append method is deprecated and will be removed from pandas in a future version. Use pandas.concat instead.\n",
      "  boundary_georef = boundary_georef.append({'city_name' : 'Uvira',\n"
     ]
    }
   ],
   "source": [
    "# COD-Uvira\n",
    "boundary_georef = boundary_georef.append({'city_name' : 'Uvira', \n",
    "                                          'country_code' : 'COD',\n",
    "                                         'geo_level' : 'ADM3'},\n",
    "                                          ignore_index = True)"
   ]
  },
  {
   "cell_type": "code",
   "execution_count": 36,
   "id": "39a88e60-6427-4e74-8685-ebc93ee0d1eb",
   "metadata": {},
   "outputs": [
    {
     "name": "stderr",
     "output_type": "stream",
     "text": [
      "C:\\Users\\Saif.Shabou\\AppData\\Local\\Temp\\ipykernel_3352\\474271266.py:2: FutureWarning: The frame.append method is deprecated and will be removed from pandas in a future version. Use pandas.concat instead.\n",
      "  boundary_georef = boundary_georef.append({'city_name' : 'Brazzaville',\n"
     ]
    }
   ],
   "source": [
    "# COG-Brazzaville\n",
    "boundary_georef = boundary_georef.append({'city_name' : 'Brazzaville', \n",
    "                                          'country_code' : 'COG',\n",
    "                                         'geo_level' : 'ADM4'},\n",
    "                                          ignore_index = True)"
   ]
  },
  {
   "cell_type": "code",
   "execution_count": 37,
   "id": "6312b4af-14a0-4d3b-90a1-281b77eefaaf",
   "metadata": {},
   "outputs": [
    {
     "name": "stderr",
     "output_type": "stream",
     "text": [
      "C:\\Users\\Saif.Shabou\\AppData\\Local\\Temp\\ipykernel_3352\\1265853321.py:2: FutureWarning: The frame.append method is deprecated and will be removed from pandas in a future version. Use pandas.concat instead.\n",
      "  boundary_georef = boundary_georef.append({'city_name' : 'Barranquilla',\n"
     ]
    }
   ],
   "source": [
    "# COL-Barranquilla\n",
    "boundary_georef = boundary_georef.append({'city_name' : 'Barranquilla', \n",
    "                                          'country_code' : 'COL',\n",
    "                                         'geo_level' : 'ADM4'},\n",
    "                                          ignore_index = True)"
   ]
  },
  {
   "cell_type": "code",
   "execution_count": 38,
   "id": "3ec0a133-7299-4b11-bbb3-351a54ada50c",
   "metadata": {},
   "outputs": [
    {
     "name": "stderr",
     "output_type": "stream",
     "text": [
      "C:\\Users\\Saif.Shabou\\AppData\\Local\\Temp\\ipykernel_3352\\970287361.py:2: FutureWarning: The frame.append method is deprecated and will be removed from pandas in a future version. Use pandas.concat instead.\n",
      "  boundary_georef = boundary_georef.append({'city_name' : 'Addis_Ababa',\n"
     ]
    }
   ],
   "source": [
    "# ETH-Addis_Ababa\n",
    "boundary_georef = boundary_georef.append({'city_name' : 'Addis_Ababa', \n",
    "                                          'country_code' : 'ETH',\n",
    "                                         'geo_level' : 'ADM4'},\n",
    "                                          ignore_index = True)"
   ]
  },
  {
   "cell_type": "code",
   "execution_count": 39,
   "id": "b46d4919-a6a1-4bf3-a989-d07134754e49",
   "metadata": {},
   "outputs": [
    {
     "name": "stderr",
     "output_type": "stream",
     "text": [
      "C:\\Users\\Saif.Shabou\\AppData\\Local\\Temp\\ipykernel_3352\\851720858.py:2: FutureWarning: The frame.append method is deprecated and will be removed from pandas in a future version. Use pandas.concat instead.\n",
      "  boundary_georef = boundary_georef.append({'city_name' : 'Dire_Dawa',\n"
     ]
    }
   ],
   "source": [
    "# ETH-Dire_Dawa\n",
    "boundary_georef = boundary_georef.append({'city_name' : 'Dire_Dawa', \n",
    "                                          'country_code' : 'ETH',\n",
    "                                         'geo_level' : 'ADM3'},\n",
    "                                          ignore_index = True)"
   ]
  },
  {
   "cell_type": "code",
   "execution_count": 40,
   "id": "8d1e8046-7630-47c1-be4e-a187e7bc11f5",
   "metadata": {},
   "outputs": [
    {
     "name": "stderr",
     "output_type": "stream",
     "text": [
      "C:\\Users\\Saif.Shabou\\AppData\\Local\\Temp\\ipykernel_3352\\3501152460.py:2: FutureWarning: The frame.append method is deprecated and will be removed from pandas in a future version. Use pandas.concat instead.\n",
      "  boundary_georef = boundary_georef.append({'city_name' : 'Nairobi',\n"
     ]
    }
   ],
   "source": [
    "# KEN-Nairobi\n",
    "boundary_georef = boundary_georef.append({'city_name' : 'Nairobi', \n",
    "                                          'country_code' : 'KEN',\n",
    "                                         'geo_level' : 'ADM3'},\n",
    "                                          ignore_index = True)"
   ]
  },
  {
   "cell_type": "code",
   "execution_count": 21,
   "id": "63e48067-f439-48e1-962f-418debdae965",
   "metadata": {},
   "outputs": [
    {
     "name": "stderr",
     "output_type": "stream",
     "text": [
      "C:\\Users\\Saif.Shabou\\AppData\\Local\\Temp\\ipykernel_3352\\4163408063.py:2: FutureWarning: The frame.append method is deprecated and will be removed from pandas in a future version. Use pandas.concat instead.\n",
      "  boundary_georef = boundary_georef.append({'city_name' : 'Antananarivo',\n"
     ]
    }
   ],
   "source": [
    "# MDG-Antananarivo\n",
    "boundary_georef = boundary_georef.append({'city_name' : 'Antananarivo', \n",
    "                                          'country_code' : 'MDG',\n",
    "                                         'geo_level' : 'ADM4'},\n",
    "                                          ignore_index = True)"
   ]
  },
  {
   "cell_type": "code",
   "execution_count": 41,
   "id": "d8f1bdda-6f75-476c-8a5c-5317eb004077",
   "metadata": {},
   "outputs": [
    {
     "name": "stderr",
     "output_type": "stream",
     "text": [
      "C:\\Users\\Saif.Shabou\\AppData\\Local\\Temp\\ipykernel_3352\\392509892.py:2: FutureWarning: The frame.append method is deprecated and will be removed from pandas in a future version. Use pandas.concat instead.\n",
      "  boundary_georef = boundary_georef.append({'city_name' : 'Mexico_City',\n"
     ]
    }
   ],
   "source": [
    "# MEX-Mexico_City\n",
    "boundary_georef = boundary_georef.append({'city_name' : 'Mexico_City', \n",
    "                                          'country_code' : 'MEX',\n",
    "                                         'geo_level' : 'ADM2'},\n",
    "                                          ignore_index = True)"
   ]
  },
  {
   "cell_type": "code",
   "execution_count": 23,
   "id": "2946dce2-c73a-4a95-9506-3326a61bffba",
   "metadata": {},
   "outputs": [
    {
     "name": "stderr",
     "output_type": "stream",
     "text": [
      "C:\\Users\\Saif.Shabou\\AppData\\Local\\Temp\\ipykernel_3352\\2534629278.py:2: FutureWarning: The frame.append method is deprecated and will be removed from pandas in a future version. Use pandas.concat instead.\n",
      "  boundary_georef = boundary_georef.append({'city_name' : 'Monterrey',\n"
     ]
    }
   ],
   "source": [
    "# MEX-Monterrey\n",
    "boundary_georef = boundary_georef.append({'city_name' : 'Monterrey', \n",
    "                                          'country_code' : 'MEX',\n",
    "                                         'geo_level' : 'ADM2'},\n",
    "                                          ignore_index = True)"
   ]
  },
  {
   "cell_type": "code",
   "execution_count": 42,
   "id": "7cf5eb86-f0a6-4d47-94a7-4381bf1fb971",
   "metadata": {},
   "outputs": [
    {
     "name": "stderr",
     "output_type": "stream",
     "text": [
      "C:\\Users\\Saif.Shabou\\AppData\\Local\\Temp\\ipykernel_3352\\126875572.py:2: FutureWarning: The frame.append method is deprecated and will be removed from pandas in a future version. Use pandas.concat instead.\n",
      "  boundary_georef = boundary_georef.append({'city_name' : 'Musanze',\n"
     ]
    }
   ],
   "source": [
    "# RWA-Musanze\n",
    "boundary_georef = boundary_georef.append({'city_name' : 'Musanze', \n",
    "                                          'country_code' : 'RWA',\n",
    "                                         'geo_level' : 'ADM5'},\n",
    "                                          ignore_index = True)"
   ]
  },
  {
   "cell_type": "code",
   "execution_count": 43,
   "id": "5a1ff6aa-e7b2-4704-a47f-cb825bf4f344",
   "metadata": {},
   "outputs": [
    {
     "data": {
      "text/html": [
       "<div>\n",
       "<style scoped>\n",
       "    .dataframe tbody tr th:only-of-type {\n",
       "        vertical-align: middle;\n",
       "    }\n",
       "\n",
       "    .dataframe tbody tr th {\n",
       "        vertical-align: top;\n",
       "    }\n",
       "\n",
       "    .dataframe thead th {\n",
       "        text-align: right;\n",
       "    }\n",
       "</style>\n",
       "<table border=\"1\" class=\"dataframe\">\n",
       "  <thead>\n",
       "    <tr style=\"text-align: right;\">\n",
       "      <th></th>\n",
       "      <th>city_name</th>\n",
       "      <th>geo_name</th>\n",
       "      <th>aoi_boundary_name</th>\n",
       "      <th>units_boundary_name</th>\n",
       "      <th>city_boundary_name</th>\n",
       "      <th>country_code</th>\n",
       "      <th>geo_level</th>\n",
       "    </tr>\n",
       "  </thead>\n",
       "  <tbody>\n",
       "    <tr>\n",
       "      <th>0</th>\n",
       "      <td>Salvador</td>\n",
       "      <td>BRA-Salvador</td>\n",
       "      <td>ADM4union</td>\n",
       "      <td>ADM4</td>\n",
       "      <td>BRA-Salvador-ADM4</td>\n",
       "      <td>BRA</td>\n",
       "      <td>ADM4</td>\n",
       "    </tr>\n",
       "    <tr>\n",
       "      <th>1</th>\n",
       "      <td>Bukavu</td>\n",
       "      <td>COD-Bukavu</td>\n",
       "      <td>ADM3union</td>\n",
       "      <td>ADM3</td>\n",
       "      <td>COD-Bukavu-ADM3</td>\n",
       "      <td>COD</td>\n",
       "      <td>ADM3</td>\n",
       "    </tr>\n",
       "    <tr>\n",
       "      <th>2</th>\n",
       "      <td>Uvira</td>\n",
       "      <td>COD-Uvira</td>\n",
       "      <td>ADM3union</td>\n",
       "      <td>ADM3</td>\n",
       "      <td>COD-Uvira-ADM3</td>\n",
       "      <td>COD</td>\n",
       "      <td>ADM3</td>\n",
       "    </tr>\n",
       "    <tr>\n",
       "      <th>3</th>\n",
       "      <td>Brazzaville</td>\n",
       "      <td>COG-Brazzaville</td>\n",
       "      <td>ADM4union</td>\n",
       "      <td>ADM4</td>\n",
       "      <td>COG-Brazzaville-ADM4</td>\n",
       "      <td>COG</td>\n",
       "      <td>ADM4</td>\n",
       "    </tr>\n",
       "    <tr>\n",
       "      <th>4</th>\n",
       "      <td>Barranquilla</td>\n",
       "      <td>COL-Barranquilla</td>\n",
       "      <td>ADM4union</td>\n",
       "      <td>ADM4</td>\n",
       "      <td>COL-Barranquilla-ADM4</td>\n",
       "      <td>COL</td>\n",
       "      <td>ADM4</td>\n",
       "    </tr>\n",
       "    <tr>\n",
       "      <th>5</th>\n",
       "      <td>Addis_Ababa</td>\n",
       "      <td>ETH-Addis_Ababa</td>\n",
       "      <td>ADM4union</td>\n",
       "      <td>ADM4</td>\n",
       "      <td>ETH-Addis_Ababa-ADM4</td>\n",
       "      <td>ETH</td>\n",
       "      <td>ADM4</td>\n",
       "    </tr>\n",
       "    <tr>\n",
       "      <th>6</th>\n",
       "      <td>Dire_Dawa</td>\n",
       "      <td>ETH-Dire_Dawa</td>\n",
       "      <td>ADM3union</td>\n",
       "      <td>ADM3</td>\n",
       "      <td>ETH-Dire_Dawa-ADM3</td>\n",
       "      <td>ETH</td>\n",
       "      <td>ADM3</td>\n",
       "    </tr>\n",
       "    <tr>\n",
       "      <th>7</th>\n",
       "      <td>Nairobi</td>\n",
       "      <td>KEN-Nairobi</td>\n",
       "      <td>ADM3union</td>\n",
       "      <td>ADM3</td>\n",
       "      <td>KEN-Nairobi-ADM3</td>\n",
       "      <td>KEN</td>\n",
       "      <td>ADM3</td>\n",
       "    </tr>\n",
       "    <tr>\n",
       "      <th>8</th>\n",
       "      <td>Mexico_City</td>\n",
       "      <td>MEX-Mexico_City</td>\n",
       "      <td>ADM2union</td>\n",
       "      <td>ADM2</td>\n",
       "      <td>MEX-Mexico_City-ADM2</td>\n",
       "      <td>MEX</td>\n",
       "      <td>ADM2</td>\n",
       "    </tr>\n",
       "    <tr>\n",
       "      <th>9</th>\n",
       "      <td>Musanze</td>\n",
       "      <td>RWA-Musanze</td>\n",
       "      <td>ADM5union</td>\n",
       "      <td>ADM5</td>\n",
       "      <td>RWA-Musanze-ADM5</td>\n",
       "      <td>RWA</td>\n",
       "      <td>ADM5</td>\n",
       "    </tr>\n",
       "  </tbody>\n",
       "</table>\n",
       "</div>"
      ],
      "text/plain": [
       "      city_name          geo_name aoi_boundary_name units_boundary_name  \\\n",
       "0      Salvador      BRA-Salvador         ADM4union                ADM4   \n",
       "1        Bukavu        COD-Bukavu         ADM3union                ADM3   \n",
       "2         Uvira         COD-Uvira         ADM3union                ADM3   \n",
       "3   Brazzaville   COG-Brazzaville         ADM4union                ADM4   \n",
       "4  Barranquilla  COL-Barranquilla         ADM4union                ADM4   \n",
       "5   Addis_Ababa   ETH-Addis_Ababa         ADM4union                ADM4   \n",
       "6     Dire_Dawa     ETH-Dire_Dawa         ADM3union                ADM3   \n",
       "7       Nairobi       KEN-Nairobi         ADM3union                ADM3   \n",
       "8   Mexico_City   MEX-Mexico_City         ADM2union                ADM2   \n",
       "9       Musanze       RWA-Musanze         ADM5union                ADM5   \n",
       "\n",
       "      city_boundary_name country_code geo_level  \n",
       "0      BRA-Salvador-ADM4          BRA      ADM4  \n",
       "1        COD-Bukavu-ADM3          COD      ADM3  \n",
       "2         COD-Uvira-ADM3          COD      ADM3  \n",
       "3   COG-Brazzaville-ADM4          COG      ADM4  \n",
       "4  COL-Barranquilla-ADM4          COL      ADM4  \n",
       "5   ETH-Addis_Ababa-ADM4          ETH      ADM4  \n",
       "6     ETH-Dire_Dawa-ADM3          ETH      ADM3  \n",
       "7       KEN-Nairobi-ADM3          KEN      ADM3  \n",
       "8   MEX-Mexico_City-ADM2          MEX      ADM2  \n",
       "9       RWA-Musanze-ADM5          RWA      ADM5  "
      ]
     },
     "execution_count": 43,
     "metadata": {},
     "output_type": "execute_result"
    }
   ],
   "source": [
    "# fill the rest of fields\n",
    "boundary_georef['geo_name'] = boundary_georef['country_code'] + '-' + boundary_georef['city_name']\n",
    "boundary_georef['aoi_boundary_name'] = boundary_georef['geo_level'] + 'union' \n",
    "boundary_georef['units_boundary_name'] = boundary_georef['geo_level'] \n",
    "boundary_georef['city_boundary_name'] = boundary_georef['geo_name'] + '-' + boundary_georef['geo_level']\n",
    "boundary_georef"
   ]
  },
  {
   "cell_type": "markdown",
   "id": "0521d08d-0a14-43bc-8e30-de6350ec0c4f",
   "metadata": {},
   "source": [
    "# Upload to aws s3"
   ]
  },
  {
   "cell_type": "code",
   "execution_count": 44,
   "id": "9a90ec26-81a5-401e-957c-3167c5ba6951",
   "metadata": {},
   "outputs": [],
   "source": [
    "# connect to s3\n",
    "aws_credentials = pd.read_csv('C:\\\\Users\\\\Saif.Shabou\\\\OneDrive - World Resources Institute\\\\Documents\\\\aws\\\\credentials.csv')\n",
    "aws_key = aws_credentials.iloc[0]['Access key ID']\n",
    "aws_secret = aws_credentials.iloc[0]['Secret access key']\n",
    "\n",
    "s3 = boto3.resource(\n",
    "    service_name='s3',\n",
    "    aws_access_key_id=aws_key,\n",
    "    aws_secret_access_key=aws_secret\n",
    ")"
   ]
  },
  {
   "cell_type": "code",
   "execution_count": 45,
   "id": "03cb99a7-5112-45cf-9fdf-08b1f372ecbd",
   "metadata": {},
   "outputs": [],
   "source": [
    "# upload to aws\n",
    "key_data = 'data/boundaries/v_0/boundary_georef.csv'\n",
    "bucket_name = 'cities-cities4forests' \n",
    "boundary_georef.to_csv(\n",
    "    f\"s3://{bucket_name}/{key_data}\",\n",
    "    index=False,\n",
    "    storage_options={\n",
    "        \"key\": aws_key,\n",
    "        \"secret\": aws_secret\n",
    "    },\n",
    ")"
   ]
  },
  {
   "cell_type": "code",
   "execution_count": 46,
   "id": "dfc11610-7a20-43e6-bbb5-809bf249e7bf",
   "metadata": {},
   "outputs": [],
   "source": [
    "# make it public\n",
    "object_acl = s3.ObjectAcl(bucket_name,key_data)\n",
    "response = object_acl.put(ACL='public-read')"
   ]
  },
  {
   "cell_type": "code",
   "execution_count": null,
   "id": "8c563a9c-166b-4292-bb4d-757f862fae87",
   "metadata": {},
   "outputs": [],
   "source": []
  }
 ],
 "metadata": {
  "kernelspec": {
   "display_name": "Python 3 (ipykernel)",
   "language": "python",
   "name": "python3"
  },
  "language_info": {
   "codemirror_mode": {
    "name": "ipython",
    "version": 3
   },
   "file_extension": ".py",
   "mimetype": "text/x-python",
   "name": "python",
   "nbconvert_exporter": "python",
   "pygments_lexer": "ipython3",
   "version": "3.10.5"
  }
 },
 "nbformat": 4,
 "nbformat_minor": 5
}
